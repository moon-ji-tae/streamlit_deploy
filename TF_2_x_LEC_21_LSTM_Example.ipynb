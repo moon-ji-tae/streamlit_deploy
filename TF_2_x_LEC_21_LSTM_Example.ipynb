{
  "cells": [
    {
      "cell_type": "markdown",
      "metadata": {
        "id": "QpJUJia4IbVS"
      },
      "source": [
        "LSTM 기반의 삼성전자 주가 예측 예제\n",
        " - yahoo finance 에서 데이터 다운로드 후 3일(3MA), 5일(5MA) 가격이평선 추가"
      ]
    },
    {
      "cell_type": "code",
      "execution_count": 1,
      "metadata": {
        "id": "Ah3M-kc3aZqy"
      },
      "outputs": [],
      "source": [
        "import tensorflow as tf\n",
        "import numpy as np\n",
        "import pandas as pd\n",
        "import matplotlib.pyplot as plt\n",
        "from tensorflow.keras.models import Sequential\n",
        "from tensorflow.keras.layers import LSTM, Dense, Dropout"
      ]
    },
    {
      "cell_type": "markdown",
      "metadata": {
        "id": "tU_3ujIh9_N0"
      },
      "source": [
        "데이터 불러오기"
      ]
    },
    {
      "cell_type": "code",
      "execution_count": 2,
      "metadata": {},
      "outputs": [],
      "source": [
        "# !pip install yfinance"
      ]
    },
    {
      "cell_type": "code",
      "execution_count": 3,
      "metadata": {},
      "outputs": [
        {
          "name": "stdout",
          "output_type": "stream",
          "text": [
            "[*********************100%***********************]  1 of 1 completed\n",
            "               Open     High      Low    Close     Adj Close    Volume\n",
            "Date                                                                  \n",
            "2000-01-04   6000.0   6110.0   5660.0   6110.0   4537.110352  74195000\n",
            "2000-01-05   5800.0   6060.0   5520.0   5580.0   4143.548340  74680000\n",
            "2000-01-06   5750.0   5780.0   5580.0   5620.0   4173.250000  54390000\n",
            "2000-01-07   5560.0   5670.0   5360.0   5540.0   4113.844238  40305000\n",
            "2000-01-10   5600.0   5770.0   5580.0   5770.0   4284.635254  46880000\n",
            "...             ...      ...      ...      ...           ...       ...\n",
            "2023-05-18  66000.0  66200.0  65700.0  66200.0  66200.000000  14431704\n",
            "2023-05-19  67800.0  68400.0  67500.0  68400.0  68400.000000  20349345\n",
            "2023-05-22  68400.0  69000.0  68000.0  68500.0  68500.000000  14470308\n",
            "2023-05-23  68500.0  68700.0  68100.0  68400.0  68400.000000   8561643\n",
            "2023-05-24  68100.0  68700.0  68000.0  68500.0  68500.000000   8192896\n",
            "\n",
            "[5870 rows x 6 columns]\n"
          ]
        }
      ],
      "source": [
        "import yfinance as yf\n",
        "\n",
        "# 삼성전자의 주식 심볼 설정\n",
        "symbol = '005930.KS'  # 005930.KS는 삼성전자의 심볼입니다. '.KS'는 한국 주식을 의미합니다.\n",
        "\n",
        "# 데이터를 가져올 기간 설정\n",
        "start_date = '2000-01-01'\n",
        "end_date = '2023-05-25'\n",
        "\n",
        "# Yahoo Finance에서 데이터를 가져옵니다.\n",
        "data = yf.download(symbol, start=start_date, end=end_date)\n",
        "\n",
        "# 데이터 출력\n",
        "print(data)"
      ]
    },
    {
      "cell_type": "code",
      "execution_count": 4,
      "metadata": {},
      "outputs": [],
      "source": [
        "# 종가(Close) 컬럼을 기반으로 3일 이동평균과 5일 이동평균 계산\n",
        "data['3MA'] = data['Close'].rolling(window=3).mean()\n",
        "data['5MA'] = data['Close'].rolling(window=5).mean()"
      ]
    },
    {
      "cell_type": "code",
      "execution_count": 5,
      "metadata": {},
      "outputs": [
        {
          "data": {
            "text/html": [
              "<div>\n",
              "<style scoped>\n",
              "    .dataframe tbody tr th:only-of-type {\n",
              "        vertical-align: middle;\n",
              "    }\n",
              "\n",
              "    .dataframe tbody tr th {\n",
              "        vertical-align: top;\n",
              "    }\n",
              "\n",
              "    .dataframe thead th {\n",
              "        text-align: right;\n",
              "    }\n",
              "</style>\n",
              "<table border=\"1\" class=\"dataframe\">\n",
              "  <thead>\n",
              "    <tr style=\"text-align: right;\">\n",
              "      <th></th>\n",
              "      <th>Open</th>\n",
              "      <th>High</th>\n",
              "      <th>Low</th>\n",
              "      <th>Close</th>\n",
              "      <th>Adj Close</th>\n",
              "      <th>Volume</th>\n",
              "      <th>3MA</th>\n",
              "      <th>5MA</th>\n",
              "    </tr>\n",
              "    <tr>\n",
              "      <th>Date</th>\n",
              "      <th></th>\n",
              "      <th></th>\n",
              "      <th></th>\n",
              "      <th></th>\n",
              "      <th></th>\n",
              "      <th></th>\n",
              "      <th></th>\n",
              "      <th></th>\n",
              "    </tr>\n",
              "  </thead>\n",
              "  <tbody>\n",
              "    <tr>\n",
              "      <th>2023-05-18</th>\n",
              "      <td>66000.0</td>\n",
              "      <td>66200.0</td>\n",
              "      <td>65700.0</td>\n",
              "      <td>66200.0</td>\n",
              "      <td>66200.0</td>\n",
              "      <td>14431704</td>\n",
              "      <td>65533.333333</td>\n",
              "      <td>65040.0</td>\n",
              "    </tr>\n",
              "    <tr>\n",
              "      <th>2023-05-19</th>\n",
              "      <td>67800.0</td>\n",
              "      <td>68400.0</td>\n",
              "      <td>67500.0</td>\n",
              "      <td>68400.0</td>\n",
              "      <td>68400.0</td>\n",
              "      <td>20349345</td>\n",
              "      <td>66533.333333</td>\n",
              "      <td>65900.0</td>\n",
              "    </tr>\n",
              "    <tr>\n",
              "      <th>2023-05-22</th>\n",
              "      <td>68400.0</td>\n",
              "      <td>69000.0</td>\n",
              "      <td>68000.0</td>\n",
              "      <td>68500.0</td>\n",
              "      <td>68500.0</td>\n",
              "      <td>14470308</td>\n",
              "      <td>67700.000000</td>\n",
              "      <td>66700.0</td>\n",
              "    </tr>\n",
              "    <tr>\n",
              "      <th>2023-05-23</th>\n",
              "      <td>68500.0</td>\n",
              "      <td>68700.0</td>\n",
              "      <td>68100.0</td>\n",
              "      <td>68400.0</td>\n",
              "      <td>68400.0</td>\n",
              "      <td>8561643</td>\n",
              "      <td>68433.333333</td>\n",
              "      <td>67300.0</td>\n",
              "    </tr>\n",
              "    <tr>\n",
              "      <th>2023-05-24</th>\n",
              "      <td>68100.0</td>\n",
              "      <td>68700.0</td>\n",
              "      <td>68000.0</td>\n",
              "      <td>68500.0</td>\n",
              "      <td>68500.0</td>\n",
              "      <td>8192896</td>\n",
              "      <td>68466.666667</td>\n",
              "      <td>68000.0</td>\n",
              "    </tr>\n",
              "  </tbody>\n",
              "</table>\n",
              "</div>"
            ],
            "text/plain": [
              "               Open     High      Low    Close  Adj Close    Volume  \\\n",
              "Date                                                                  \n",
              "2023-05-18  66000.0  66200.0  65700.0  66200.0    66200.0  14431704   \n",
              "2023-05-19  67800.0  68400.0  67500.0  68400.0    68400.0  20349345   \n",
              "2023-05-22  68400.0  69000.0  68000.0  68500.0    68500.0  14470308   \n",
              "2023-05-23  68500.0  68700.0  68100.0  68400.0    68400.0   8561643   \n",
              "2023-05-24  68100.0  68700.0  68000.0  68500.0    68500.0   8192896   \n",
              "\n",
              "                     3MA      5MA  \n",
              "Date                               \n",
              "2023-05-18  65533.333333  65040.0  \n",
              "2023-05-19  66533.333333  65900.0  \n",
              "2023-05-22  67700.000000  66700.0  \n",
              "2023-05-23  68433.333333  67300.0  \n",
              "2023-05-24  68466.666667  68000.0  "
            ]
          },
          "execution_count": 5,
          "metadata": {},
          "output_type": "execute_result"
        }
      ],
      "source": [
        "data.tail()"
      ]
    },
    {
      "cell_type": "code",
      "execution_count": 6,
      "metadata": {
        "colab": {
          "base_uri": "https://localhost:8080/",
          "height": 205
        },
        "id": "9srMq0M9fXwk",
        "outputId": "72209902-9844-4101-c2b1-357f643c3a57"
      },
      "outputs": [
        {
          "data": {
            "text/html": [
              "<div>\n",
              "<style scoped>\n",
              "    .dataframe tbody tr th:only-of-type {\n",
              "        vertical-align: middle;\n",
              "    }\n",
              "\n",
              "    .dataframe tbody tr th {\n",
              "        vertical-align: top;\n",
              "    }\n",
              "\n",
              "    .dataframe thead th {\n",
              "        text-align: right;\n",
              "    }\n",
              "</style>\n",
              "<table border=\"1\" class=\"dataframe\">\n",
              "  <thead>\n",
              "    <tr style=\"text-align: right;\">\n",
              "      <th></th>\n",
              "      <th>Open</th>\n",
              "      <th>High</th>\n",
              "      <th>Low</th>\n",
              "      <th>Close</th>\n",
              "      <th>Adj Close</th>\n",
              "      <th>Volume</th>\n",
              "      <th>3MA</th>\n",
              "      <th>5MA</th>\n",
              "    </tr>\n",
              "    <tr>\n",
              "      <th>Date</th>\n",
              "      <th></th>\n",
              "      <th></th>\n",
              "      <th></th>\n",
              "      <th></th>\n",
              "      <th></th>\n",
              "      <th></th>\n",
              "      <th></th>\n",
              "      <th></th>\n",
              "    </tr>\n",
              "  </thead>\n",
              "  <tbody>\n",
              "    <tr>\n",
              "      <th>2000-01-04</th>\n",
              "      <td>6000.0</td>\n",
              "      <td>6110.0</td>\n",
              "      <td>5660.0</td>\n",
              "      <td>6110.0</td>\n",
              "      <td>4537.110352</td>\n",
              "      <td>74195000</td>\n",
              "      <td>NaN</td>\n",
              "      <td>NaN</td>\n",
              "    </tr>\n",
              "    <tr>\n",
              "      <th>2000-01-05</th>\n",
              "      <td>5800.0</td>\n",
              "      <td>6060.0</td>\n",
              "      <td>5520.0</td>\n",
              "      <td>5580.0</td>\n",
              "      <td>4143.548340</td>\n",
              "      <td>74680000</td>\n",
              "      <td>NaN</td>\n",
              "      <td>NaN</td>\n",
              "    </tr>\n",
              "    <tr>\n",
              "      <th>2000-01-06</th>\n",
              "      <td>5750.0</td>\n",
              "      <td>5780.0</td>\n",
              "      <td>5580.0</td>\n",
              "      <td>5620.0</td>\n",
              "      <td>4173.250000</td>\n",
              "      <td>54390000</td>\n",
              "      <td>5770.000000</td>\n",
              "      <td>NaN</td>\n",
              "    </tr>\n",
              "    <tr>\n",
              "      <th>2000-01-07</th>\n",
              "      <td>5560.0</td>\n",
              "      <td>5670.0</td>\n",
              "      <td>5360.0</td>\n",
              "      <td>5540.0</td>\n",
              "      <td>4113.844238</td>\n",
              "      <td>40305000</td>\n",
              "      <td>5580.000000</td>\n",
              "      <td>NaN</td>\n",
              "    </tr>\n",
              "    <tr>\n",
              "      <th>2000-01-10</th>\n",
              "      <td>5600.0</td>\n",
              "      <td>5770.0</td>\n",
              "      <td>5580.0</td>\n",
              "      <td>5770.0</td>\n",
              "      <td>4284.635254</td>\n",
              "      <td>46880000</td>\n",
              "      <td>5643.333333</td>\n",
              "      <td>5724.0</td>\n",
              "    </tr>\n",
              "  </tbody>\n",
              "</table>\n",
              "</div>"
            ],
            "text/plain": [
              "              Open    High     Low   Close    Adj Close    Volume  \\\n",
              "Date                                                                \n",
              "2000-01-04  6000.0  6110.0  5660.0  6110.0  4537.110352  74195000   \n",
              "2000-01-05  5800.0  6060.0  5520.0  5580.0  4143.548340  74680000   \n",
              "2000-01-06  5750.0  5780.0  5580.0  5620.0  4173.250000  54390000   \n",
              "2000-01-07  5560.0  5670.0  5360.0  5540.0  4113.844238  40305000   \n",
              "2000-01-10  5600.0  5770.0  5580.0  5770.0  4284.635254  46880000   \n",
              "\n",
              "                    3MA     5MA  \n",
              "Date                             \n",
              "2000-01-04          NaN     NaN  \n",
              "2000-01-05          NaN     NaN  \n",
              "2000-01-06  5770.000000     NaN  \n",
              "2000-01-07  5580.000000     NaN  \n",
              "2000-01-10  5643.333333  5724.0  "
            ]
          },
          "execution_count": 6,
          "metadata": {},
          "output_type": "execute_result"
        }
      ],
      "source": [
        "# raw_df = pd.read_csv('./005930.KS_3MA_5MA.csv')  # yahoo finance 로부터 데이터 다운로드\n",
        "raw_df = data\n",
        "raw_df.head()"
      ]
    },
    {
      "cell_type": "code",
      "execution_count": 7,
      "metadata": {
        "colab": {
          "base_uri": "https://localhost:8080/",
          "height": 295
        },
        "id": "d1lsO_jInckj",
        "outputId": "e067ba8f-3671-49a6-a7ff-64263784cab5"
      },
      "outputs": [
        {
          "data": {
            "image/png": "[encoded data removed]",
            "text/plain": [
              "<Figure size 640x480 with 1 Axes>"
            ]
          },
          "metadata": {},
          "output_type": "display_data"
        }
      ],
      "source": [
        "plt.title('SAMSUNG ELECTRONIC STCOK PRICE')\n",
        "plt.ylabel('price')\n",
        "plt.xlabel('period')\n",
        "plt.grid()\n",
        "\n",
        "plt.plot(raw_df['Adj Close'], label='Adj Close')\n",
        "\n",
        "plt.show()"
      ]
    },
    {
      "cell_type": "markdown",
      "metadata": {
        "id": "iQtB5ixT-KZt"
      },
      "source": [
        "데이터 전처리 (Missing Data 처리, 정규화 등)"
      ]
    },
    {
      "cell_type": "code",
      "execution_count": 8,
      "metadata": {
        "colab": {
          "base_uri": "https://localhost:8080/",
          "height": 319
        },
        "id": "LtXkxvPchBSW",
        "outputId": "9a8939d0-fc21-4fce-cb55-d8dfb7ce9218"
      },
      "outputs": [
        {
          "data": {
            "text/html": [
              "<div>\n",
              "<style scoped>\n",
              "    .dataframe tbody tr th:only-of-type {\n",
              "        vertical-align: middle;\n",
              "    }\n",
              "\n",
              "    .dataframe tbody tr th {\n",
              "        vertical-align: top;\n",
              "    }\n",
              "\n",
              "    .dataframe thead th {\n",
              "        text-align: right;\n",
              "    }\n",
              "</style>\n",
              "<table border=\"1\" class=\"dataframe\">\n",
              "  <thead>\n",
              "    <tr style=\"text-align: right;\">\n",
              "      <th></th>\n",
              "      <th>Open</th>\n",
              "      <th>High</th>\n",
              "      <th>Low</th>\n",
              "      <th>Close</th>\n",
              "      <th>Adj Close</th>\n",
              "      <th>Volume</th>\n",
              "      <th>3MA</th>\n",
              "      <th>5MA</th>\n",
              "    </tr>\n",
              "  </thead>\n",
              "  <tbody>\n",
              "    <tr>\n",
              "      <th>count</th>\n",
              "      <td>5870.000000</td>\n",
              "      <td>5870.000000</td>\n",
              "      <td>5870.000000</td>\n",
              "      <td>5870.000000</td>\n",
              "      <td>5870.000000</td>\n",
              "      <td>5.870000e+03</td>\n",
              "      <td>5868.000000</td>\n",
              "      <td>5866.000000</td>\n",
              "    </tr>\n",
              "    <tr>\n",
              "      <th>mean</th>\n",
              "      <td>26408.032368</td>\n",
              "      <td>26669.107325</td>\n",
              "      <td>26139.286201</td>\n",
              "      <td>26401.407155</td>\n",
              "      <td>22842.832118</td>\n",
              "      <td>2.138491e+07</td>\n",
              "      <td>26397.726653</td>\n",
              "      <td>26394.092738</td>\n",
              "    </tr>\n",
              "    <tr>\n",
              "      <th>std</th>\n",
              "      <td>20978.281569</td>\n",
              "      <td>21146.110427</td>\n",
              "      <td>20798.699424</td>\n",
              "      <td>20961.517748</td>\n",
              "      <td>20417.451217</td>\n",
              "      <td>1.527884e+07</td>\n",
              "      <td>20953.035301</td>\n",
              "      <td>20945.157188</td>\n",
              "    </tr>\n",
              "    <tr>\n",
              "      <th>min</th>\n",
              "      <td>2540.000000</td>\n",
              "      <td>2760.000000</td>\n",
              "      <td>2420.000000</td>\n",
              "      <td>2730.000000</td>\n",
              "      <td>2027.218994</td>\n",
              "      <td>0.000000e+00</td>\n",
              "      <td>2790.000000</td>\n",
              "      <td>2810.000000</td>\n",
              "    </tr>\n",
              "    <tr>\n",
              "      <th>25%</th>\n",
              "      <td>10400.000000</td>\n",
              "      <td>10560.000000</td>\n",
              "      <td>10280.000000</td>\n",
              "      <td>10425.000000</td>\n",
              "      <td>7835.227783</td>\n",
              "      <td>1.169654e+07</td>\n",
              "      <td>10433.333333</td>\n",
              "      <td>10449.000000</td>\n",
              "    </tr>\n",
              "    <tr>\n",
              "      <th>50%</th>\n",
              "      <td>18020.000000</td>\n",
              "      <td>18280.000000</td>\n",
              "      <td>17790.000000</td>\n",
              "      <td>18020.000000</td>\n",
              "      <td>14157.299316</td>\n",
              "      <td>1.731500e+07</td>\n",
              "      <td>18036.666667</td>\n",
              "      <td>18018.000000</td>\n",
              "    </tr>\n",
              "    <tr>\n",
              "      <th>75%</th>\n",
              "      <td>41795.000000</td>\n",
              "      <td>42100.000000</td>\n",
              "      <td>41515.000000</td>\n",
              "      <td>41847.500000</td>\n",
              "      <td>35839.740234</td>\n",
              "      <td>2.655706e+07</td>\n",
              "      <td>41881.666667</td>\n",
              "      <td>41855.000000</td>\n",
              "    </tr>\n",
              "    <tr>\n",
              "      <th>max</th>\n",
              "      <td>90300.000000</td>\n",
              "      <td>96800.000000</td>\n",
              "      <td>89500.000000</td>\n",
              "      <td>91000.000000</td>\n",
              "      <td>86717.320312</td>\n",
              "      <td>1.642150e+08</td>\n",
              "      <td>90433.333333</td>\n",
              "      <td>89960.000000</td>\n",
              "    </tr>\n",
              "  </tbody>\n",
              "</table>\n",
              "</div>"
            ],
            "text/plain": [
              "               Open          High           Low         Close     Adj Close  \\\n",
              "count   5870.000000   5870.000000   5870.000000   5870.000000   5870.000000   \n",
              "mean   26408.032368  26669.107325  26139.286201  26401.407155  22842.832118   \n",
              "std    20978.281569  21146.110427  20798.699424  20961.517748  20417.451217   \n",
              "min     2540.000000   2760.000000   2420.000000   2730.000000   2027.218994   \n",
              "25%    10400.000000  10560.000000  10280.000000  10425.000000   7835.227783   \n",
              "50%    18020.000000  18280.000000  17790.000000  18020.000000  14157.299316   \n",
              "75%    41795.000000  42100.000000  41515.000000  41847.500000  35839.740234   \n",
              "max    90300.000000  96800.000000  89500.000000  91000.000000  86717.320312   \n",
              "\n",
              "             Volume           3MA           5MA  \n",
              "count  5.870000e+03   5868.000000   5866.000000  \n",
              "mean   2.138491e+07  26397.726653  26394.092738  \n",
              "std    1.527884e+07  20953.035301  20945.157188  \n",
              "min    0.000000e+00   2790.000000   2810.000000  \n",
              "25%    1.169654e+07  10433.333333  10449.000000  \n",
              "50%    1.731500e+07  18036.666667  18018.000000  \n",
              "75%    2.655706e+07  41881.666667  41855.000000  \n",
              "max    1.642150e+08  90433.333333  89960.000000  "
            ]
          },
          "execution_count": 8,
          "metadata": {},
          "output_type": "execute_result"
        }
      ],
      "source": [
        "# 통계정보 확인\n",
        "\n",
        "raw_df.describe()"
      ]
    },
    {
      "cell_type": "code",
      "execution_count": 9,
      "metadata": {
        "colab": {
          "base_uri": "https://localhost:8080/"
        },
        "id": "ExtqrJEXWjBS",
        "outputId": "8ca376cd-0ac2-4d75-8294-677768660240"
      },
      "outputs": [
        {
          "data": {
            "text/plain": [
              "Open         0\n",
              "High         0\n",
              "Low          0\n",
              "Close        0\n",
              "Adj Close    0\n",
              "Volume       0\n",
              "3MA          2\n",
              "5MA          4\n",
              "dtype: int64"
            ]
          },
          "execution_count": 9,
          "metadata": {},
          "output_type": "execute_result"
        }
      ],
      "source": [
        "# Missing Data 확인\n",
        "\n",
        "raw_df.isnull().sum()"
      ]
    },
    {
      "cell_type": "code",
      "execution_count": 10,
      "metadata": {
        "colab": {
          "base_uri": "https://localhost:8080/"
        },
        "id": "eJKlSQjlxvgj",
        "outputId": "86e6287c-e567-4f3c-c839-520fefc809c1"
      },
      "outputs": [
        {
          "name": "stdout",
          "output_type": "stream",
          "text": [
            "Volume <class 'str'>\n"
          ]
        }
      ],
      "source": [
        "# 최소값이 0 인 column 체크\n",
        "\n",
        "for col in raw_df.columns:\n",
        "\n",
        "    if raw_df[col].min() == 0:\n",
        "        col_name = col\n",
        "        print(col_name, type(col_name))"
      ]
    },
    {
      "cell_type": "code",
      "execution_count": 11,
      "metadata": {
        "colab": {
          "base_uri": "https://localhost:8080/",
          "height": 615
        },
        "id": "-sjMP002VR5P",
        "outputId": "ac221fc0-a6c5-4d73-ec68-2f1e2562d288"
      },
      "outputs": [
        {
          "data": {
            "text/html": [
              "<div>\n",
              "<style scoped>\n",
              "    .dataframe tbody tr th:only-of-type {\n",
              "        vertical-align: middle;\n",
              "    }\n",
              "\n",
              "    .dataframe tbody tr th {\n",
              "        vertical-align: top;\n",
              "    }\n",
              "\n",
              "    .dataframe thead th {\n",
              "        text-align: right;\n",
              "    }\n",
              "</style>\n",
              "<table border=\"1\" class=\"dataframe\">\n",
              "  <thead>\n",
              "    <tr style=\"text-align: right;\">\n",
              "      <th></th>\n",
              "      <th>Open</th>\n",
              "      <th>High</th>\n",
              "      <th>Low</th>\n",
              "      <th>Close</th>\n",
              "      <th>Adj Close</th>\n",
              "      <th>Volume</th>\n",
              "      <th>3MA</th>\n",
              "      <th>5MA</th>\n",
              "    </tr>\n",
              "    <tr>\n",
              "      <th>Date</th>\n",
              "      <th></th>\n",
              "      <th></th>\n",
              "      <th></th>\n",
              "      <th></th>\n",
              "      <th></th>\n",
              "      <th></th>\n",
              "      <th></th>\n",
              "      <th></th>\n",
              "    </tr>\n",
              "  </thead>\n",
              "  <tbody>\n",
              "    <tr>\n",
              "      <th>2000-02-04</th>\n",
              "      <td>5130.0</td>\n",
              "      <td>5130.0</td>\n",
              "      <td>5130.0</td>\n",
              "      <td>5130.0</td>\n",
              "      <td>3809.390625</td>\n",
              "      <td>0</td>\n",
              "      <td>5170.000000</td>\n",
              "      <td>5282.0</td>\n",
              "    </tr>\n",
              "    <tr>\n",
              "      <th>2000-03-01</th>\n",
              "      <td>5120.0</td>\n",
              "      <td>5120.0</td>\n",
              "      <td>5120.0</td>\n",
              "      <td>5120.0</td>\n",
              "      <td>3801.966064</td>\n",
              "      <td>0</td>\n",
              "      <td>5013.333333</td>\n",
              "      <td>5046.0</td>\n",
              "    </tr>\n",
              "    <tr>\n",
              "      <th>2000-04-05</th>\n",
              "      <td>6800.0</td>\n",
              "      <td>6800.0</td>\n",
              "      <td>6800.0</td>\n",
              "      <td>6800.0</td>\n",
              "      <td>5049.484375</td>\n",
              "      <td>0</td>\n",
              "      <td>6900.000000</td>\n",
              "      <td>6890.0</td>\n",
              "    </tr>\n",
              "    <tr>\n",
              "      <th>2000-04-13</th>\n",
              "      <td>6910.0</td>\n",
              "      <td>6910.0</td>\n",
              "      <td>6910.0</td>\n",
              "      <td>6910.0</td>\n",
              "      <td>5131.168457</td>\n",
              "      <td>0</td>\n",
              "      <td>6973.333333</td>\n",
              "      <td>7084.0</td>\n",
              "    </tr>\n",
              "    <tr>\n",
              "      <th>2000-05-01</th>\n",
              "      <td>6000.0</td>\n",
              "      <td>6000.0</td>\n",
              "      <td>6000.0</td>\n",
              "      <td>6000.0</td>\n",
              "      <td>4455.428223</td>\n",
              "      <td>0</td>\n",
              "      <td>5800.000000</td>\n",
              "      <td>5728.0</td>\n",
              "    </tr>\n",
              "    <tr>\n",
              "      <th>...</th>\n",
              "      <td>...</td>\n",
              "      <td>...</td>\n",
              "      <td>...</td>\n",
              "      <td>...</td>\n",
              "      <td>...</td>\n",
              "      <td>...</td>\n",
              "      <td>...</td>\n",
              "      <td>...</td>\n",
              "    </tr>\n",
              "    <tr>\n",
              "      <th>2022-02-28</th>\n",
              "      <td>71900.0</td>\n",
              "      <td>71900.0</td>\n",
              "      <td>71900.0</td>\n",
              "      <td>71900.0</td>\n",
              "      <td>69767.617188</td>\n",
              "      <td>0</td>\n",
              "      <td>71766.666667</td>\n",
              "      <td>72780.0</td>\n",
              "    </tr>\n",
              "    <tr>\n",
              "      <th>2022-03-04</th>\n",
              "      <td>72900.0</td>\n",
              "      <td>72900.0</td>\n",
              "      <td>72900.0</td>\n",
              "      <td>72900.0</td>\n",
              "      <td>70737.953125</td>\n",
              "      <td>0</td>\n",
              "      <td>72500.000000</td>\n",
              "      <td>72260.0</td>\n",
              "    </tr>\n",
              "    <tr>\n",
              "      <th>2022-03-10</th>\n",
              "      <td>69500.0</td>\n",
              "      <td>69500.0</td>\n",
              "      <td>69500.0</td>\n",
              "      <td>69500.0</td>\n",
              "      <td>67438.796875</td>\n",
              "      <td>0</td>\n",
              "      <td>69700.000000</td>\n",
              "      <td>70980.0</td>\n",
              "    </tr>\n",
              "    <tr>\n",
              "      <th>2022-03-15</th>\n",
              "      <td>70200.0</td>\n",
              "      <td>70200.0</td>\n",
              "      <td>70200.0</td>\n",
              "      <td>70200.0</td>\n",
              "      <td>68118.039062</td>\n",
              "      <td>0</td>\n",
              "      <td>70133.333333</td>\n",
              "      <td>69880.0</td>\n",
              "    </tr>\n",
              "    <tr>\n",
              "      <th>2022-03-17</th>\n",
              "      <td>70400.0</td>\n",
              "      <td>70400.0</td>\n",
              "      <td>70400.0</td>\n",
              "      <td>70400.0</td>\n",
              "      <td>68312.101562</td>\n",
              "      <td>0</td>\n",
              "      <td>70333.333333</td>\n",
              "      <td>70240.0</td>\n",
              "    </tr>\n",
              "  </tbody>\n",
              "</table>\n",
              "<p>127 rows × 8 columns</p>\n",
              "</div>"
            ],
            "text/plain": [
              "               Open     High      Low    Close     Adj Close  Volume  \\\n",
              "Date                                                                   \n",
              "2000-02-04   5130.0   5130.0   5130.0   5130.0   3809.390625       0   \n",
              "2000-03-01   5120.0   5120.0   5120.0   5120.0   3801.966064       0   \n",
              "2000-04-05   6800.0   6800.0   6800.0   6800.0   5049.484375       0   \n",
              "2000-04-13   6910.0   6910.0   6910.0   6910.0   5131.168457       0   \n",
              "2000-05-01   6000.0   6000.0   6000.0   6000.0   4455.428223       0   \n",
              "...             ...      ...      ...      ...           ...     ...   \n",
              "2022-02-28  71900.0  71900.0  71900.0  71900.0  69767.617188       0   \n",
              "2022-03-04  72900.0  72900.0  72900.0  72900.0  70737.953125       0   \n",
              "2022-03-10  69500.0  69500.0  69500.0  69500.0  67438.796875       0   \n",
              "2022-03-15  70200.0  70200.0  70200.0  70200.0  68118.039062       0   \n",
              "2022-03-17  70400.0  70400.0  70400.0  70400.0  68312.101562       0   \n",
              "\n",
              "                     3MA      5MA  \n",
              "Date                               \n",
              "2000-02-04   5170.000000   5282.0  \n",
              "2000-03-01   5013.333333   5046.0  \n",
              "2000-04-05   6900.000000   6890.0  \n",
              "2000-04-13   6973.333333   7084.0  \n",
              "2000-05-01   5800.000000   5728.0  \n",
              "...                  ...      ...  \n",
              "2022-02-28  71766.666667  72780.0  \n",
              "2022-03-04  72500.000000  72260.0  \n",
              "2022-03-10  69700.000000  70980.0  \n",
              "2022-03-15  70133.333333  69880.0  \n",
              "2022-03-17  70333.333333  70240.0  \n",
              "\n",
              "[127 rows x 8 columns]"
            ]
          },
          "execution_count": 11,
          "metadata": {},
          "output_type": "execute_result"
        }
      ],
      "source": [
        "raw_df.loc[raw_df['Volume']==0]"
      ]
    },
    {
      "cell_type": "code",
      "execution_count": 12,
      "metadata": {
        "colab": {
          "base_uri": "https://localhost:8080/"
        },
        "id": "Ac7ieaSiUkYl",
        "outputId": "bd6ea968-6cd6-4bf8-f389-adce8de58858"
      },
      "outputs": [
        {
          "name": "stdout",
          "output_type": "stream",
          "text": [
            "Open: 0\n",
            "High: 0\n",
            "Low: 0\n",
            "Close: 0\n",
            "Adj Close: 0\n",
            "Volume: 127\n",
            "3MA: 0\n",
            "5MA: 0\n"
          ]
        }
      ],
      "source": [
        "# 각 column에 0 몇개인지 확인\n",
        "\n",
        "for col in raw_df.columns:\n",
        "\n",
        "    missing_rows = raw_df.loc[raw_df[col]==0].shape[0]\n",
        "    print(col + ': ' + str(missing_rows))"
      ]
    },
    {
      "cell_type": "code",
      "execution_count": 13,
      "metadata": {
        "colab": {
          "base_uri": "https://localhost:8080/"
        },
        "id": "EqPvPM4UVskp",
        "outputId": "2dc14df5-8ee0-44a5-bb88-1c45f547ffe7"
      },
      "outputs": [
        {
          "name": "stdout",
          "output_type": "stream",
          "text": [
            "Open: 0\n",
            "High: 0\n",
            "Low: 0\n",
            "Close: 0\n",
            "Adj Close: 0\n",
            "Volume: 0\n",
            "3MA: 0\n",
            "5MA: 0\n"
          ]
        }
      ],
      "source": [
        "# 먼저 0 을 NaN 으로 바꾼후, Missing Data 처리\n",
        "\n",
        "raw_df['Volume'] = raw_df['Volume'].replace(0, np.nan)\n",
        "\n",
        "# 각 column에 0 몇개인지 확인\n",
        "\n",
        "for col in raw_df.columns:\n",
        "\n",
        "    missing_rows = raw_df.loc[raw_df[col]==0].shape[0]\n",
        "    print(col + ': ' + str(missing_rows))"
      ]
    },
    {
      "cell_type": "code",
      "execution_count": 14,
      "metadata": {
        "colab": {
          "base_uri": "https://localhost:8080/"
        },
        "id": "BJ2attPDfw3E",
        "outputId": "11e7b57e-3242-47d4-f4a5-57612a726a52"
      },
      "outputs": [
        {
          "data": {
            "text/plain": [
              "Open           0\n",
              "High           0\n",
              "Low            0\n",
              "Close          0\n",
              "Adj Close      0\n",
              "Volume       127\n",
              "3MA            2\n",
              "5MA            4\n",
              "dtype: int64"
            ]
          },
          "execution_count": 14,
          "metadata": {},
          "output_type": "execute_result"
        }
      ],
      "source": [
        "# missing data 확인\n",
        "\n",
        "raw_df.isnull().sum()"
      ]
    },
    {
      "cell_type": "code",
      "execution_count": 15,
      "metadata": {
        "colab": {
          "base_uri": "https://localhost:8080/"
        },
        "id": "l470iWLyhhzF",
        "outputId": "d0ccc011-4133-45a7-eed9-761265bfdfac"
      },
      "outputs": [
        {
          "data": {
            "text/plain": [
              "Open         False\n",
              "High         False\n",
              "Low          False\n",
              "Close        False\n",
              "Adj Close    False\n",
              "Volume        True\n",
              "3MA           True\n",
              "5MA           True\n",
              "dtype: bool"
            ]
          },
          "execution_count": 15,
          "metadata": {},
          "output_type": "execute_result"
        }
      ],
      "source": [
        "raw_df.isnull().any()"
      ]
    },
    {
      "cell_type": "code",
      "execution_count": 16,
      "metadata": {
        "colab": {
          "base_uri": "https://localhost:8080/",
          "height": 237
        },
        "id": "Ves_xphWh182",
        "outputId": "8d32d8b7-7a2a-4800-892d-f5f7b2692f26"
      },
      "outputs": [
        {
          "data": {
            "text/html": [
              "<div>\n",
              "<style scoped>\n",
              "    .dataframe tbody tr th:only-of-type {\n",
              "        vertical-align: middle;\n",
              "    }\n",
              "\n",
              "    .dataframe tbody tr th {\n",
              "        vertical-align: top;\n",
              "    }\n",
              "\n",
              "    .dataframe thead th {\n",
              "        text-align: right;\n",
              "    }\n",
              "</style>\n",
              "<table border=\"1\" class=\"dataframe\">\n",
              "  <thead>\n",
              "    <tr style=\"text-align: right;\">\n",
              "      <th></th>\n",
              "      <th>Open</th>\n",
              "      <th>High</th>\n",
              "      <th>Low</th>\n",
              "      <th>Close</th>\n",
              "      <th>Adj Close</th>\n",
              "      <th>Volume</th>\n",
              "      <th>3MA</th>\n",
              "      <th>5MA</th>\n",
              "    </tr>\n",
              "    <tr>\n",
              "      <th>Date</th>\n",
              "      <th></th>\n",
              "      <th></th>\n",
              "      <th></th>\n",
              "      <th></th>\n",
              "      <th></th>\n",
              "      <th></th>\n",
              "      <th></th>\n",
              "      <th></th>\n",
              "    </tr>\n",
              "  </thead>\n",
              "  <tbody>\n",
              "  </tbody>\n",
              "</table>\n",
              "</div>"
            ],
            "text/plain": [
              "Empty DataFrame\n",
              "Columns: [Open, High, Low, Close, Adj Close, Volume, 3MA, 5MA]\n",
              "Index: []"
            ]
          },
          "execution_count": 16,
          "metadata": {},
          "output_type": "execute_result"
        }
      ],
      "source": [
        "raw_df.loc[raw_df['Open'].isna()]"
      ]
    },
    {
      "cell_type": "code",
      "execution_count": 17,
      "metadata": {
        "colab": {
          "base_uri": "https://localhost:8080/"
        },
        "id": "eIKrl7HwjxUh",
        "outputId": "6ecc1594-76e9-46d9-d45e-e5285cbd3e1b"
      },
      "outputs": [
        {
          "data": {
            "text/plain": [
              "Open         0\n",
              "High         0\n",
              "Low          0\n",
              "Close        0\n",
              "Adj Close    0\n",
              "Volume       0\n",
              "3MA          0\n",
              "5MA          0\n",
              "dtype: int64"
            ]
          },
          "execution_count": 17,
          "metadata": {},
          "output_type": "execute_result"
        }
      ],
      "source": [
        "# missing data 처리\n",
        "\n",
        "raw_df = raw_df.dropna()\n",
        "\n",
        "raw_df.isnull().sum()"
      ]
    },
    {
      "cell_type": "code",
      "execution_count": 18,
      "metadata": {
        "colab": {
          "base_uri": "https://localhost:8080/"
        },
        "id": "pWjPDWKXz1Ap",
        "outputId": "e5a4b2fa-7ad6-4c20-8918-891148c16650"
      },
      "outputs": [
        {
          "name": "stdout",
          "output_type": "stream",
          "text": [
            "          Open      High       Low     Close  Adj Close       3MA       5MA  \\\n",
            "0     0.034868  0.032008  0.036288  0.034440   0.026655  0.032556  0.033215   \n",
            "1     0.037375  0.035517  0.038470  0.034440   0.026655  0.033127  0.032434   \n",
            "2     0.034982  0.031689  0.036518  0.033873   0.026217  0.033811  0.032756   \n",
            "3     0.034868  0.031689  0.036059  0.033760   0.026129  0.033583  0.032962   \n",
            "4     0.036235  0.033177  0.037437  0.035120   0.027181  0.033811  0.033628   \n",
            "...        ...       ...       ...       ...        ...       ...       ...   \n",
            "5734  0.723108  0.674607  0.726688  0.719044   0.757737  0.715894  0.713991   \n",
            "5735  0.743619  0.698001  0.747359  0.743967   0.783714  0.727304  0.723861   \n",
            "5736  0.750456  0.704381  0.753101  0.745100   0.784894  0.740615  0.733043   \n",
            "5737  0.751595  0.701191  0.754249  0.743967   0.783714  0.748983  0.739929   \n",
            "5738  0.747037  0.701191  0.753101  0.745100   0.784894  0.749363  0.747963   \n",
            "\n",
            "        Volume  \n",
            "0     0.285359  \n",
            "1     0.363715  \n",
            "2     0.177799  \n",
            "3     0.250704  \n",
            "4     0.300555  \n",
            "...        ...  \n",
            "5734  0.087729  \n",
            "5735  0.123771  \n",
            "5736  0.087964  \n",
            "5737  0.051977  \n",
            "5738  0.049731  \n",
            "\n",
            "[5739 rows x 8 columns]\n"
          ]
        }
      ],
      "source": [
        "# 정규화 (Date 제외한 모든 수치부분 정규화)\n",
        "\n",
        "from sklearn.preprocessing import MinMaxScaler\n",
        "\n",
        "scaler = MinMaxScaler()\n",
        "\n",
        "scale_cols = ['Open', 'High', 'Low', 'Close', 'Adj Close',\n",
        "              '3MA', '5MA', 'Volume']\n",
        "\n",
        "scaled_df = scaler.fit_transform(raw_df[scale_cols])\n",
        "\n",
        "scaled_df = pd.DataFrame(scaled_df, columns=scale_cols)\n",
        "\n",
        "print(scaled_df)"
      ]
    },
    {
      "cell_type": "markdown",
      "metadata": {
        "id": "XEocuNgdjv9f"
      },
      "source": [
        "주가예측을 위해 3MA, 5MA, Adj Close 항목을 feature 선정\n",
        " - 정답은 Adj Close 선정\n",
        " - 시계열 데이터를 위한 window_size = 40 선정"
      ]
    },
    {
      "cell_type": "code",
      "execution_count": 19,
      "metadata": {
        "id": "_Dekc31jpHlz"
      },
      "outputs": [],
      "source": [
        "# 입력 파라미터 feature, label => numpy type\n",
        "\n",
        "def make_sequene_dataset(feature, label, window_size):\n",
        "\n",
        "    feature_list = []      # 생성될 feature list\n",
        "    label_list = []        # 생성될 label list\n",
        "\n",
        "    for i in range(len(feature)-window_size):\n",
        "\n",
        "        feature_list.append(feature[i:i+window_size])\n",
        "        label_list.append(label[i+window_size])\n",
        "\n",
        "    return np.array(feature_list), np.array(label_list)"
      ]
    },
    {
      "cell_type": "code",
      "execution_count": 20,
      "metadata": {
        "id": "xB3BIwF-nPrw"
      },
      "outputs": [],
      "source": [
        "# feature_df, label_df 생성\n",
        "\n",
        "feature_cols = [ '3MA', '5MA', 'Adj Close' ]\n",
        "label_cols = [ 'Adj Close' ]\n",
        "\n",
        "feature_df = pd.DataFrame(scaled_df, columns=feature_cols)\n",
        "label_df = pd.DataFrame(scaled_df, columns=label_cols)"
      ]
    },
    {
      "cell_type": "code",
      "execution_count": 21,
      "metadata": {
        "colab": {
          "base_uri": "https://localhost:8080/"
        },
        "id": "DWutUAPSn62i",
        "outputId": "2db9d6df-67f9-4b29-beaa-22282c999635"
      },
      "outputs": [
        {
          "name": "stdout",
          "output_type": "stream",
          "text": [
            "(5739, 3) (5739, 1)\n"
          ]
        }
      ],
      "source": [
        "# DataFrame => Numpy 변환\n",
        "\n",
        "feature_np = feature_df.to_numpy()\n",
        "label_np = label_df.to_numpy()\n",
        "\n",
        "print(feature_np.shape, label_np.shape)"
      ]
    },
    {
      "cell_type": "markdown",
      "metadata": {
        "id": "fvHj457p-dzb"
      },
      "source": [
        "시계열 데이터 생성 (make_sequence_dataset)"
      ]
    },
    {
      "cell_type": "code",
      "execution_count": 22,
      "metadata": {
        "colab": {
          "base_uri": "https://localhost:8080/"
        },
        "id": "aCTkuL3bn_8-",
        "outputId": "5e11f5a8-f38f-4d95-8ddf-26220bb7d614"
      },
      "outputs": [
        {
          "name": "stdout",
          "output_type": "stream",
          "text": [
            "(5699, 40, 3) (5699, 1)\n"
          ]
        }
      ],
      "source": [
        "window_size = 40\n",
        "\n",
        "X, Y = make_sequene_dataset(feature_np, label_np, window_size)\n",
        "\n",
        "print(X.shape, Y.shape)"
      ]
    },
    {
      "cell_type": "markdown",
      "metadata": {
        "id": "6wTuyxnw-ZNC"
      },
      "source": [
        "학습데이터, 테스트데이터 생성"
      ]
    },
    {
      "cell_type": "code",
      "execution_count": 23,
      "metadata": {
        "colab": {
          "base_uri": "https://localhost:8080/"
        },
        "id": "pDekSzzpoIiO",
        "outputId": "c468f44f-1d94-4d2b-8d13-e273b5ed4c8f"
      },
      "outputs": [
        {
          "name": "stdout",
          "output_type": "stream",
          "text": [
            "(5499, 40, 3) (5499, 1)\n",
            "(200, 40, 3) (200, 1)\n"
          ]
        }
      ],
      "source": [
        "# train, test 분리\n",
        "\n",
        "#split = int(len(X)*0.95)\n",
        "split = -200\n",
        "\n",
        "x_train = X[0:split]\n",
        "y_train = Y[0:split]\n",
        "\n",
        "x_test = X[split:]\n",
        "y_test = Y[split:]\n",
        "\n",
        "print(x_train.shape, y_train.shape)\n",
        "print(x_test.shape, y_test.shape)"
      ]
    },
    {
      "cell_type": "markdown",
      "metadata": {
        "id": "Sc9d9NJB-jV0"
      },
      "source": [
        "모델 구축 및 컴파일"
      ]
    },
    {
      "cell_type": "code",
      "execution_count": 24,
      "metadata": {
        "id": "s66hRSnAoK0D"
      },
      "outputs": [],
      "source": [
        "# model 생성\n",
        "\n",
        "model = Sequential()\n",
        "\n",
        "model.add(LSTM(128, activation='tanh', input_shape=x_train[0].shape))\n",
        "\n",
        "model.add(Dense(1, activation='linear'))"
      ]
    },
    {
      "cell_type": "code",
      "execution_count": 25,
      "metadata": {
        "colab": {
          "base_uri": "https://localhost:8080/"
        },
        "id": "yBlP2iimoNay",
        "outputId": "efbb3881-2d1c-4102-f0a1-cb54f0b80827"
      },
      "outputs": [
        {
          "name": "stdout",
          "output_type": "stream",
          "text": [
            "Model: \"sequential\"\n",
            "_________________________________________________________________\n",
            " Layer (type)                Output Shape              Param #   \n",
            "=================================================================\n",
            " lstm (LSTM)                 (None, 128)               67584     \n",
            "                                                                 \n",
            " dense (Dense)               (None, 1)                 129       \n",
            "                                                                 \n",
            "=================================================================\n",
            "Total params: 67,713\n",
            "Trainable params: 67,713\n",
            "Non-trainable params: 0\n",
            "_________________________________________________________________\n"
          ]
        }
      ],
      "source": [
        "model.compile(loss='mse', optimizer='adam', metrics=['mae'])\n",
        "\n",
        "model.summary()"
      ]
    },
    {
      "cell_type": "markdown",
      "metadata": {
        "id": "t_9GD7Vg-mHw"
      },
      "source": [
        "모델 학습 (EarlyStopping 적용)"
      ]
    },
    {
      "cell_type": "code",
      "execution_count": 26,
      "metadata": {
        "colab": {
          "base_uri": "https://localhost:8080/"
        },
        "id": "xpAYLcPHoPUd",
        "outputId": "f164a48b-7565-4e50-d8d7-3ea619363e5d"
      },
      "outputs": [
        {
          "name": "stdout",
          "output_type": "stream",
          "text": [
            "Epoch 1/100\n",
            "344/344 [==============================] - 4s 9ms/step - loss: 0.0011 - mae: 0.0128 - val_loss: 9.7779e-04 - val_mae: 0.0262\n",
            "Epoch 2/100\n",
            "344/344 [==============================] - 3s 9ms/step - loss: 1.5715e-04 - mae: 0.0078 - val_loss: 4.5900e-04 - val_mae: 0.0168\n",
            "Epoch 3/100\n",
            "344/344 [==============================] - 3s 9ms/step - loss: 1.3822e-04 - mae: 0.0074 - val_loss: 7.2004e-04 - val_mae: 0.0223\n",
            "Epoch 4/100\n",
            "344/344 [==============================] - 3s 9ms/step - loss: 1.3594e-04 - mae: 0.0073 - val_loss: 9.1335e-04 - val_mae: 0.0264\n",
            "Epoch 5/100\n",
            "344/344 [==============================] - 3s 9ms/step - loss: 1.0854e-04 - mae: 0.0067 - val_loss: 5.3952e-04 - val_mae: 0.0191\n",
            "Epoch 6/100\n",
            "344/344 [==============================] - 3s 9ms/step - loss: 1.0529e-04 - mae: 0.0066 - val_loss: 3.7106e-04 - val_mae: 0.0152\n",
            "Epoch 7/100\n",
            "344/344 [==============================] - 3s 9ms/step - loss: 9.6301e-05 - mae: 0.0062 - val_loss: 2.4246e-04 - val_mae: 0.0120\n",
            "Epoch 8/100\n",
            "344/344 [==============================] - 3s 9ms/step - loss: 8.8804e-05 - mae: 0.0060 - val_loss: 7.7177e-04 - val_mae: 0.0246\n",
            "Epoch 9/100\n",
            "344/344 [==============================] - 3s 9ms/step - loss: 9.8443e-05 - mae: 0.0064 - val_loss: 9.1422e-04 - val_mae: 0.0275\n",
            "Epoch 10/100\n",
            "344/344 [==============================] - 3s 9ms/step - loss: 8.3219e-05 - mae: 0.0059 - val_loss: 1.5567e-04 - val_mae: 0.0101\n",
            "Epoch 11/100\n",
            "344/344 [==============================] - 3s 9ms/step - loss: 8.1182e-05 - mae: 0.0059 - val_loss: 2.4691e-04 - val_mae: 0.0124\n",
            "Epoch 12/100\n",
            "344/344 [==============================] - 3s 9ms/step - loss: 6.7530e-05 - mae: 0.0053 - val_loss: 4.7708e-04 - val_mae: 0.0187\n",
            "Epoch 13/100\n",
            "344/344 [==============================] - 3s 9ms/step - loss: 6.9825e-05 - mae: 0.0054 - val_loss: 3.1267e-04 - val_mae: 0.0144\n",
            "Epoch 14/100\n",
            "344/344 [==============================] - 3s 9ms/step - loss: 6.0909e-05 - mae: 0.0051 - val_loss: 1.4755e-04 - val_mae: 0.0094\n",
            "Epoch 15/100\n",
            "344/344 [==============================] - 3s 9ms/step - loss: 6.0661e-05 - mae: 0.0051 - val_loss: 1.3507e-04 - val_mae: 0.0092\n",
            "Epoch 16/100\n",
            "344/344 [==============================] - 3s 9ms/step - loss: 6.4434e-05 - mae: 0.0052 - val_loss: 5.0754e-04 - val_mae: 0.0198\n",
            "Epoch 17/100\n",
            "344/344 [==============================] - 3s 9ms/step - loss: 5.5944e-05 - mae: 0.0049 - val_loss: 1.3380e-04 - val_mae: 0.0093\n",
            "Epoch 18/100\n",
            "344/344 [==============================] - 3s 9ms/step - loss: 4.9922e-05 - mae: 0.0046 - val_loss: 1.5668e-04 - val_mae: 0.0098\n",
            "Epoch 19/100\n",
            "344/344 [==============================] - 3s 9ms/step - loss: 5.5495e-05 - mae: 0.0049 - val_loss: 8.2830e-04 - val_mae: 0.0266\n",
            "Epoch 20/100\n",
            "344/344 [==============================] - 3s 9ms/step - loss: 5.4504e-05 - mae: 0.0048 - val_loss: 6.9748e-04 - val_mae: 0.0241\n",
            "Epoch 21/100\n",
            "344/344 [==============================] - 3s 9ms/step - loss: 5.4030e-05 - mae: 0.0048 - val_loss: 2.2681e-04 - val_mae: 0.0121\n",
            "Epoch 22/100\n",
            "344/344 [==============================] - 3s 9ms/step - loss: 4.5393e-05 - mae: 0.0043 - val_loss: 1.1986e-04 - val_mae: 0.0084\n",
            "Epoch 23/100\n",
            "344/344 [==============================] - 3s 9ms/step - loss: 4.9364e-05 - mae: 0.0045 - val_loss: 2.6667e-04 - val_mae: 0.0133\n",
            "Epoch 24/100\n",
            "344/344 [==============================] - 3s 9ms/step - loss: 4.4428e-05 - mae: 0.0043 - val_loss: 1.4534e-04 - val_mae: 0.0095\n",
            "Epoch 25/100\n",
            "344/344 [==============================] - 3s 9ms/step - loss: 4.9489e-05 - mae: 0.0045 - val_loss: 1.5138e-04 - val_mae: 0.0098\n",
            "Epoch 26/100\n",
            "344/344 [==============================] - 3s 9ms/step - loss: 4.7345e-05 - mae: 0.0044 - val_loss: 1.3356e-04 - val_mae: 0.0091\n",
            "Epoch 27/100\n",
            "344/344 [==============================] - 3s 9ms/step - loss: 4.3835e-05 - mae: 0.0043 - val_loss: 1.6801e-04 - val_mae: 0.0103\n"
          ]
        },
        {
          "data": {
            "text/plain": [
              "<keras.callbacks.History at 0x2a89a0d6fa0>"
            ]
          },
          "execution_count": 26,
          "metadata": {},
          "output_type": "execute_result"
        }
      ],
      "source": [
        "from tensorflow.keras.callbacks import EarlyStopping\n",
        "\n",
        "early_stop = EarlyStopping(monitor='val_loss', patience=5)\n",
        "\n",
        "model.fit(x_train, y_train, \n",
        "          validation_data=(x_test, y_test),\n",
        "          epochs=100, batch_size=16,\n",
        "          callbacks=[early_stop])"
      ]
    },
    {
      "cell_type": "markdown",
      "metadata": {
        "id": "CN5J-MPa-q9_"
      },
      "source": [
        "예측을 통한 정답과의 비교 \n",
        "(오차계산 MAPE 사용, 평균절대값백분율오차)"
      ]
    },
    {
      "cell_type": "code",
      "execution_count": 27,
      "metadata": {
        "colab": {
          "base_uri": "https://localhost:8080/",
          "height": 395
        },
        "id": "iUUCbGgQoSQ1",
        "outputId": "332d3e48-e096-4148-ebc9-35b7d4f05b3b"
      },
      "outputs": [
        {
          "name": "stdout",
          "output_type": "stream",
          "text": [
            "7/7 [==============================] - 0s 3ms/step\n"
          ]
        },
        {
          "data": {
            "image/png": "[encoded data removed]",
            "text/plain": [
              "<Figure size 1200x600 with 1 Axes>"
            ]
          },
          "metadata": {},
          "output_type": "display_data"
        }
      ],
      "source": [
        "pred = model.predict(x_test)\n",
        "\n",
        "plt.figure(figsize=(12, 6))\n",
        "plt.title('3MA + 5MA + Adj Close, window_size=40')\n",
        "plt.ylabel('adj close')\n",
        "plt.xlabel('period')\n",
        "plt.plot(y_test, label='actual')\n",
        "plt.plot(pred, label='prediction')\n",
        "plt.grid()\n",
        "plt.legend(loc='best')\n",
        "\n",
        "plt.show()"
      ]
    },
    {
      "cell_type": "code",
      "execution_count": 28,
      "metadata": {
        "colab": {
          "base_uri": "https://localhost:8080/"
        },
        "id": "3rpiFjKRoZlk",
        "outputId": "6224ac98-867b-48f3-87cf-fb18835c3fd4"
      },
      "outputs": [
        {
          "name": "stdout",
          "output_type": "stream",
          "text": [
            "0.014917809650364395\n"
          ]
        }
      ],
      "source": [
        "# 평균절대값백분율오차계산 (MAPE)\n",
        "\n",
        "print( np.sum(abs(y_test-pred)/y_test) / len(x_test) )"
      ]
    }
  ],
  "metadata": {
    "accelerator": "GPU",
    "colab": {
      "collapsed_sections": [],
      "name": "TF_2_x_LEC_21_LSTM_Example.ipynb",
      "provenance": []
    },
    "kernelspec": {
      "display_name": "Python 3",
      "language": "python",
      "name": "python3"
    },
    "language_info": {
      "codemirror_mode": {
        "name": "ipython",
        "version": 3
      },
      "file_extension": ".py",
      "mimetype": "text/x-python",
      "name": "python",
      "nbconvert_exporter": "python",
      "pygments_lexer": "ipython3",
      "version": "3.9.16"
    }
  },
  "nbformat": 4,
  "nbformat_minor": 0
}
