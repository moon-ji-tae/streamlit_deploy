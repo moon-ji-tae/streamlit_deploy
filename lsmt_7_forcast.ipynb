{
 "cells": [
  {
   "cell_type": "code",
   "execution_count": 13,
   "metadata": {},
   "outputs": [],
   "source": [
    "import numpy as np\n",
    "import pandas as pd\n",
    "from sklearn.preprocessing import MinMaxScaler\n",
    "from keras.models import Sequential\n",
    "from keras.layers import LSTM, Dense\n",
    "import FinanceDataReader as fdr\n",
    "from tensorflow.keras.layers import Dense, LSTM, Conv1D, Lambda\n",
    "from tensorflow.keras.losses import Huber\n"
   ]
  },
  {
   "cell_type": "code",
   "execution_count": 8,
   "metadata": {},
   "outputs": [],
   "source": [
    "def load_and_preprocess_data(STOCK_CODE):\n",
    "    # 데이터 불러오기\n",
    "    df = fdr.DataReader(STOCK_CODE)    \n",
    "    df['Year'] = df.index.year\n",
    "    df['Month'] = df.index.month\n",
    "    df['Day'] = df.index.day\n",
    "# '년', '월', '일' 필드를 'date' 필드로 변경\n",
    "    df['date'] = pd.to_datetime(df[['Year', 'Month', 'Day']])\n",
    "    # 데이터 전처리\n",
    "    df['date'] = pd.to_datetime(df['date'])\n",
    "    df.sort_values('date', inplace=True)\n",
    "    df.set_index('date', inplace=True)\n",
    "    \n",
    "    # 데이터 스케일링\n",
    "    scaler = MinMaxScaler(feature_range=(0, 1))\n",
    "    scaled_data = scaler.fit_transform(df['Close'].values.reshape(-1, 1))\n",
    "    \n",
    "    return scaled_data, scaler\n"
   ]
  },
  {
   "cell_type": "code",
   "execution_count": 11,
   "metadata": {},
   "outputs": [],
   "source": [
    "def create_and_train_lstm_model(data, lookback):\n",
    "    # 입력 데이터 생성\n",
    "    X, y = [], []\n",
    "    for i in range(len(data) - lookback):\n",
    "        X.append(data[i:(i + lookback), 0])\n",
    "        y.append(data[i + lookback, 0])\n",
    "    X, y = np.array(X), np.array(y)\n",
    "    \n",
    "    # 데이터 분할 (학습 데이터와 검증 데이터)\n",
    "    train_size = int(len(X) * 0.8)\n",
    "    X_train, X_val = X[:train_size], X[train_size:]\n",
    "    y_train, y_val = y[:train_size], y[train_size:]\n",
    "    WINDOW_SIZE=20\n",
    "    BATCH_SIZE=32\n",
    "    # trian_data는 학습용 데이터셋, test_data는 검증용 데이터셋 입니다.\n",
    "    train_data = windowed_dataset(y_train, WINDOW_SIZE, BATCH_SIZE, True)\n",
    "    test_data = windowed_dataset(y_test, WINDOW_SIZE, BATCH_SIZE, False)\n",
    "    for data in train_data.take(1):\n",
    "        print(f'데이터셋(X) 구성(batch_size, window_size, feature갯수): {data[0].shape}')\n",
    "        print(f'데이터셋(Y) 구성(batch_size, window_size, feature갯수): {data[1].shape}')\n",
    "    # LSTM 모델 생성\n",
    "    # model = Sequential()\n",
    "    # model.add(LSTM(50, input_shape=(lookback, 1)))\n",
    "    # model.add(Dense(1))\n",
    "    # model.compile(loss='mean_squared_error', optimizer='adam')\n",
    "    model = Sequential([\n",
    "    # 1차원 feature map 생성\n",
    "    Conv1D(filters=32, kernel_size=5,\n",
    "           padding=\"causal\",\n",
    "           activation=\"relu\",\n",
    "           input_shape=[WINDOW_SIZE, 1]),\n",
    "    # LSTM\n",
    "    LSTM(16, activation='tanh'),\n",
    "    Dense(16, activation=\"relu\"),\n",
    "    Dense(1),\n",
    "])\n",
    "\n",
    "    # 모델 학습\n",
    "    model.fit(X_train, y_train, validation_data=(X_val, y_val), epochs=50, batch_size=32)\n",
    "    \n",
    "    return model\n"
   ]
  },
  {
   "cell_type": "code",
   "execution_count": 4,
   "metadata": {},
   "outputs": [],
   "source": [
    "def predict_future_stock_price(model, data, scaler, lookback, prediction_days=7):\n",
    "    last_data = data[-lookback:]\n",
    "    prediction = []\n",
    "\n",
    "    for _ in range(prediction_days):\n",
    "        # 데이터 스케일링\n",
    "        scaled_data = scaler.transform(last_data.reshape(-1, 1))\n",
    "\n",
    "        # 입력 데이터 생성\n",
    "        X = np.array([scaled_data])\n",
    "\n",
    "        # 주가 예측\n",
    "        predicted_price = model.predict(X)\n",
    "\n",
    "        # 예측 결과 역스케일링\n",
    "        predicted_price = scaler.inverse_transform(predicted_price)\n",
    "\n",
    "        # 예측값 저장\n",
    "        prediction.append(predicted_price[0][0])\n",
    "\n",
    "        # 다음 날 예측을 위해 데이터 업데이트\n",
    "        last_data = np.append(last_data[1:], predicted_price[0])\n",
    "\n",
    "    return prediction\n"
   ]
  },
  {
   "cell_type": "code",
   "execution_count": 14,
   "metadata": {},
   "outputs": [
    {
     "ename": "NameError",
     "evalue": "name 'WINDOW_SIZE' is not defined",
     "output_type": "error",
     "traceback": [
      "\u001b[1;31m---------------------------------------------------------------------------\u001b[0m",
      "\u001b[1;31mNameError\u001b[0m                                 Traceback (most recent call last)",
      "Cell \u001b[1;32mIn[14], line 9\u001b[0m\n\u001b[0;32m      7\u001b[0m data, scaler \u001b[39m=\u001b[39m load_and_preprocess_data(STOCK_CODE)\n\u001b[0;32m      8\u001b[0m \u001b[39m# 학습된 모델 로드\u001b[39;00m\n\u001b[1;32m----> 9\u001b[0m model \u001b[39m=\u001b[39m create_and_train_lstm_model(data, lookback)\n\u001b[0;32m     10\u001b[0m \u001b[39m# 7일간의 주가 예측\u001b[39;00m\n\u001b[0;32m     11\u001b[0m prediction \u001b[39m=\u001b[39m predict_future_stock_price(model, data, scaler, lookback, prediction_days\u001b[39m=\u001b[39m\u001b[39m7\u001b[39m)\n",
      "Cell \u001b[1;32mIn[11], line 24\u001b[0m, in \u001b[0;36mcreate_and_train_lstm_model\u001b[1;34m(data, lookback)\u001b[0m\n\u001b[0;32m     12\u001b[0m     y_train, y_val \u001b[39m=\u001b[39m y[:train_size], y[train_size:]\n\u001b[0;32m     14\u001b[0m     \u001b[39m# LSTM 모델 생성\u001b[39;00m\n\u001b[0;32m     15\u001b[0m     \u001b[39m# model = Sequential()\u001b[39;00m\n\u001b[0;32m     16\u001b[0m     \u001b[39m# model.add(LSTM(50, input_shape=(lookback, 1)))\u001b[39;00m\n\u001b[0;32m     17\u001b[0m     \u001b[39m# model.add(Dense(1))\u001b[39;00m\n\u001b[0;32m     18\u001b[0m     \u001b[39m# model.compile(loss='mean_squared_error', optimizer='adam')\u001b[39;00m\n\u001b[0;32m     19\u001b[0m     model \u001b[39m=\u001b[39m Sequential([\n\u001b[0;32m     20\u001b[0m     \u001b[39m# 1차원 feature map 생성\u001b[39;00m\n\u001b[0;32m     21\u001b[0m     Conv1D(filters\u001b[39m=\u001b[39m\u001b[39m32\u001b[39m, kernel_size\u001b[39m=\u001b[39m\u001b[39m5\u001b[39m,\n\u001b[0;32m     22\u001b[0m            padding\u001b[39m=\u001b[39m\u001b[39m\"\u001b[39m\u001b[39mcausal\u001b[39m\u001b[39m\"\u001b[39m,\n\u001b[0;32m     23\u001b[0m            activation\u001b[39m=\u001b[39m\u001b[39m\"\u001b[39m\u001b[39mrelu\u001b[39m\u001b[39m\"\u001b[39m,\n\u001b[1;32m---> 24\u001b[0m            input_shape\u001b[39m=\u001b[39m[WINDOW_SIZE, \u001b[39m1\u001b[39m]),\n\u001b[0;32m     25\u001b[0m     \u001b[39m# LSTM\u001b[39;00m\n\u001b[0;32m     26\u001b[0m     LSTM(\u001b[39m16\u001b[39m, activation\u001b[39m=\u001b[39m\u001b[39m'\u001b[39m\u001b[39mtanh\u001b[39m\u001b[39m'\u001b[39m),\n\u001b[0;32m     27\u001b[0m     Dense(\u001b[39m16\u001b[39m, activation\u001b[39m=\u001b[39m\u001b[39m\"\u001b[39m\u001b[39mrelu\u001b[39m\u001b[39m\"\u001b[39m),\n\u001b[0;32m     28\u001b[0m     Dense(\u001b[39m1\u001b[39m),\n\u001b[0;32m     29\u001b[0m ])\n\u001b[0;32m     31\u001b[0m     \u001b[39m# 모델 학습\u001b[39;00m\n\u001b[0;32m     32\u001b[0m     model\u001b[39m.\u001b[39mfit(X_train, y_train, validation_data\u001b[39m=\u001b[39m(X_val, y_val), epochs\u001b[39m=\u001b[39m\u001b[39m50\u001b[39m, batch_size\u001b[39m=\u001b[39m\u001b[39m32\u001b[39m)\n",
      "\u001b[1;31mNameError\u001b[0m: name 'WINDOW_SIZE' is not defined"
     ]
    }
   ],
   "source": [
    "# 예측을 위한 데이터 전처리\n",
    "# filename = 'stock_data.csv'  # 주식 데이터 파일 경로\n",
    "# 삼성전자 주식코드: 005930\n",
    "STOCK_CODE = '005930'\n",
    "lookback = 60  # LSTM 입력 시퀀스 길이\n",
    "\n",
    "data, scaler = load_and_preprocess_data(STOCK_CODE)\n",
    "# 학습된 모델 로드\n",
    "model = create_and_train_lstm_model(data, lookback)\n",
    "# 7일간의 주가 예측\n",
    "prediction = predict_future_stock_price(model, data, scaler, lookback, prediction_days=7)\n",
    "\n",
    "print(prediction)\n"
   ]
  }
 ],
 "metadata": {
  "kernelspec": {
   "display_name": "RF3",
   "language": "python",
   "name": "python3"
  },
  "language_info": {
   "codemirror_mode": {
    "name": "ipython",
    "version": 3
   },
   "file_extension": ".py",
   "mimetype": "text/x-python",
   "name": "python",
   "nbconvert_exporter": "python",
   "pygments_lexer": "ipython3",
   "version": "3.9.16"
  },
  "orig_nbformat": 4
 },
 "nbformat": 4,
 "nbformat_minor": 2
}
