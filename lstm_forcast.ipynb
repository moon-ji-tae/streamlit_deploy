{
 "cells": [
  {
   "cell_type": "code",
   "execution_count": null,
   "metadata": {},
   "outputs": [],
   "source": [
    "import numpy as np\n",
    "import pandas as pd\n",
    "import matplotlib.pyplot as plt\n",
    "from keras.models import Sequential\n",
    "from keras.layers import LSTM, Dense\n",
    "from sklearn.preprocessing import MinMaxScaler\n",
    "\n",
    "# 주가 데이터 로드\n",
    "# df = pd.read_csv('주가데이터.csv')  # 실제 주가 데이터 파일명으로 수정\n",
    "import FinanceDataReader as fdr\n",
    "\n",
    "#삼성전자(005930) 전체 (1996-11-05 ~ 현재)\n",
    "df = fdr.DataReader('005930')"
   ]
  },
  {
   "cell_type": "code",
   "execution_count": null,
   "metadata": {},
   "outputs": [],
   "source": [
    "df['Year'] = df.index.year\n",
    "df['Month'] = df.index.month\n",
    "df['Day'] = df.index.day\n",
    "# '년', '월', '일' 필드를 'date' 필드로 변경\n",
    "df['date'] = pd.to_datetime(df[['Year', 'Month', 'Day']])"
   ]
  },
  {
   "cell_type": "code",
   "execution_count": null,
   "metadata": {},
   "outputs": [],
   "source": [
    "df.info()"
   ]
  },
  {
   "cell_type": "code",
   "execution_count": null,
   "metadata": {},
   "outputs": [],
   "source": [
    "df.tail()"
   ]
  },
  {
   "cell_type": "code",
   "execution_count": null,
   "metadata": {},
   "outputs": [],
   "source": [
    "# 주가 데이터 전처리\n",
    "scaler = MinMaxScaler(feature_range=(0, 1))\n",
    "scaled_data = scaler.fit_transform(df['Close'].values.reshape(-1, 1))"
   ]
  },
  {
   "cell_type": "code",
   "execution_count": null,
   "metadata": {},
   "outputs": [],
   "source": [
    "# 시계열 데이터 생성\n",
    "lookback = 30  # 이전 30일 데이터를 사용하여 예측\n",
    "X = []\n",
    "y = []\n",
    "print(len(scaled_data) - lookback - 7)\n",
    "for i in range(len(scaled_data) - lookback - 7):  # 현재부터 7일 전까지 데이터 사용\n",
    "    X.append(scaled_data[i:i + lookback])\n",
    "    y.append(scaled_data[i + lookback + 7])  # 현재부터 7일 후의 주가를 예측\n",
    "\n",
    "X = np.array(X)\n",
    "y = np.array(y)"
   ]
  },
  {
   "cell_type": "code",
   "execution_count": null,
   "metadata": {},
   "outputs": [],
   "source": [
    "# 데이터셋 분할 (학습:검증 = 8:2)\n",
    "split = int(0.8 * len(X))\n",
    "X_train, X_val = X[:split], X[split:]\n",
    "y_train, y_val = y[:split], y[split:]\n",
    "\n",
    "# LSTM 모델 구성\n",
    "model = Sequential()\n",
    "model.add(LSTM(units=50, activation='relu', input_shape=(lookback, 1)))\n",
    "model.add(Dense(units=1))\n",
    "model.compile(optimizer='adam', loss='mean_squared_error')\n",
    "\n",
    "# 모델 학습\n",
    "model.fit(X_train, y_train, epochs=50, batch_size=32, validation_data=(X_val, y_val))\n"
   ]
  },
  {
   "cell_type": "code",
   "execution_count": null,
   "metadata": {},
   "outputs": [],
   "source": [
    "X.shape"
   ]
  },
  {
   "cell_type": "code",
   "execution_count": null,
   "metadata": {},
   "outputs": [],
   "source": [
    "df['date'].values[-lookback:]"
   ]
  },
  {
   "cell_type": "code",
   "execution_count": null,
   "metadata": {},
   "outputs": [],
   "source": [
    "df['Close'].values[-lookback:]"
   ]
  },
  {
   "cell_type": "code",
   "execution_count": null,
   "metadata": {},
   "outputs": [],
   "source": [
    "df['date'].values[-lookback-1:-lookback+6]"
   ]
  },
  {
   "cell_type": "code",
   "execution_count": null,
   "metadata": {},
   "outputs": [],
   "source": [
    "df.tail()"
   ]
  },
  {
   "cell_type": "code",
   "execution_count": null,
   "metadata": {},
   "outputs": [],
   "source": [
    "# 마지막 날짜 값 추출\n",
    "last_date = df['date'].iloc[-1]\n",
    "\n",
    "# 7번 반복하여 하루씩 행 추가\n",
    "for _ in range(7):\n",
    "    next_date = last_date + pd.DateOffset(days=1)    \n",
    "    df = df.append({'date': next_date}, ignore_index=True)\n",
    "    last_date = next_date\n"
   ]
  },
  {
   "cell_type": "code",
   "execution_count": null,
   "metadata": {},
   "outputs": [],
   "source": [
    "df.tail(10)"
   ]
  },
  {
   "cell_type": "code",
   "execution_count": null,
   "metadata": {},
   "outputs": [],
   "source": [
    "df['date'].tail(7)"
   ]
  },
  {
   "cell_type": "code",
   "execution_count": null,
   "metadata": {},
   "outputs": [],
   "source": [
    "# 예측 결과 시각화\n",
    "plt.plot(df['date'].values[-lookback:], df['Close'].values[-lookback:], label='Actual')\n",
    "plt.plot(df['date'].tail(7), prediction, label='Predicted')\n",
    "plt.xlabel('date')\n",
    "plt.ylabel('Close Price')\n",
    "plt.title('7-day Stock Price Prediction')\n",
    "plt.legend()\n",
    "plt.show()"
   ]
  },
  {
   "cell_type": "code",
   "execution_count": null,
   "metadata": {},
   "outputs": [],
   "source": [
    "#W======================================="
   ]
  },
  {
   "cell_type": "code",
   "execution_count": 1,
   "metadata": {},
   "outputs": [],
   "source": [
    "import numpy as np\n",
    "import pandas as pd\n",
    "import time\n",
    "import matplotlib.pyplot as plt\n",
    "from sklearn.preprocessing import MinMaxScaler\n",
    "from tensorflow.keras.models import Sequential\n",
    "from tensorflow.keras.layers import LSTM, Dense, Dropout, Activation"
   ]
  },
  {
   "cell_type": "code",
   "execution_count": 2,
   "metadata": {},
   "outputs": [],
   "source": [
    "import FinanceDataReader as fdr\n",
    "\n",
    "#삼성전자(005930) 전체 (1996-11-05 ~ 현재)\n",
    "data = fdr.DataReader('005930')"
   ]
  },
  {
   "cell_type": "code",
   "execution_count": 3,
   "metadata": {},
   "outputs": [],
   "source": [
    "data['Year'] = data.index.year\n",
    "data['Month'] = data.index.month\n",
    "data['Day'] = data.index.day\n",
    "# '년', '월', '일' 필드를 'date' 필드로 변경\n",
    "data['date'] = pd.to_datetime(data[['Year', 'Month', 'Day']])"
   ]
  },
  {
   "cell_type": "code",
   "execution_count": 4,
   "metadata": {},
   "outputs": [],
   "source": [
    "# 데이터 로드 및 전처리\n",
    "# data = df  # 주가 데이터 파일명에 맞게 수정\n",
    "scaler = MinMaxScaler()\n",
    "scaled_data = scaler.fit_transform(data['Close'].values.reshape(-1, 1))"
   ]
  },
  {
   "cell_type": "code",
   "execution_count": null,
   "metadata": {},
   "outputs": [],
   "source": [
    "data.tail()"
   ]
  },
  {
   "cell_type": "code",
   "execution_count": 5,
   "metadata": {},
   "outputs": [],
   "source": [
    "# 학습 데이터 생성\n",
    "look_back = 60  # 과거 데이터를 참조하는 기간 (조정 가능)\n",
    "X = []\n",
    "y = []\n",
    "for i in range(len(scaled_data) - look_back):\n",
    "    X.append(scaled_data[i:i + look_back, 0])\n",
    "    y.append(scaled_data[i + look_back, 0])\n",
    "X = np.array(X)\n",
    "y = np.array(y)"
   ]
  },
  {
   "cell_type": "code",
   "execution_count": 6,
   "metadata": {},
   "outputs": [],
   "source": [
    "# 학습 데이터 및 테스트 데이터 분할\n",
    "train_size = int(len(X) * 0.8)  # 80%를 학습 데이터로 사용 (조정 가능)\n",
    "X_train = X[:train_size]\n",
    "y_train = y[:train_size]\n",
    "X_test = X[train_size:]\n",
    "y_test = y[train_size:]\n",
    "\n",
    "# LSTM 모델 생성 및 학습\n",
    "# model = Sequential()\n",
    "# model.add(LSTM(50, return_sequences=True, input_shape=(look_back, 1)))\n",
    "# model.add(LSTM(50))\n",
    "# model.add(Dense(1))\n",
    "# model.compile(loss='mean_squared_error', optimizer='adam')\n",
    "# model.fit(X_train, y_train, epochs=100, batch_size=32)"
   ]
  },
  {
   "cell_type": "code",
   "execution_count": 52,
   "metadata": {},
   "outputs": [
    {
     "data": {
      "text/plain": [
       "(1188, 60)"
      ]
     },
     "execution_count": 52,
     "metadata": {},
     "output_type": "execute_result"
    }
   ],
   "source": [
    "X_test.shape"
   ]
  },
  {
   "cell_type": "code",
   "execution_count": 7,
   "metadata": {},
   "outputs": [
    {
     "name": "stdout",
     "output_type": "stream",
     "text": [
      "compilation time :  0.0050868988037109375\n"
     ]
    }
   ],
   "source": [
    "#2단계: 모델 생성\n",
    "model = Sequential()\n",
    "\n",
    "model.add(LSTM( units=50,\n",
    "    input_dim=1,\n",
    "    \n",
    "    return_sequences=True))\n",
    "model.add(Dropout(0.2))\n",
    "\n",
    "model.add(LSTM(\n",
    "    100,\n",
    "    return_sequences=False))\n",
    "model.add(Dropout(0.2))\n",
    "\n",
    "model.add(Dense(\n",
    "    units=1))\n",
    "model.add(Activation('linear'))\n",
    "\n",
    "start = time.time()\n",
    "model.compile(loss='mse', optimizer='rmsprop')\n",
    "print ('compilation time : ', time.time() - start)"
   ]
  },
  {
   "cell_type": "code",
   "execution_count": 20,
   "metadata": {},
   "outputs": [
    {
     "name": "stdout",
     "output_type": "stream",
     "text": [
      "Epoch 1/100\n",
      "9/9 [==============================] - 2s 203ms/step - loss: 0.0014 - val_loss: 0.0024\n",
      "Epoch 2/100\n",
      "9/9 [==============================] - 2s 203ms/step - loss: 9.7486e-04 - val_loss: 0.0051\n",
      "Epoch 3/100\n",
      "9/9 [==============================] - 2s 207ms/step - loss: 9.3479e-04 - val_loss: 6.7246e-04\n",
      "Epoch 4/100\n",
      "9/9 [==============================] - 2s 206ms/step - loss: 8.6372e-04 - val_loss: 0.0048\n",
      "Epoch 5/100\n",
      "9/9 [==============================] - 2s 210ms/step - loss: 7.0958e-04 - val_loss: 0.0012\n",
      "Epoch 6/100\n",
      "9/9 [==============================] - 2s 213ms/step - loss: 7.0445e-04 - val_loss: 0.0037\n",
      "Epoch 7/100\n",
      "9/9 [==============================] - 2s 206ms/step - loss: 7.8221e-04 - val_loss: 0.0022\n",
      "Epoch 8/100\n",
      "9/9 [==============================] - 2s 204ms/step - loss: 5.8004e-04 - val_loss: 0.0024\n",
      "Epoch 9/100\n",
      "9/9 [==============================] - 2s 202ms/step - loss: 7.1339e-04 - val_loss: 0.0010\n",
      "Epoch 10/100\n",
      "9/9 [==============================] - 2s 205ms/step - loss: 5.0662e-04 - val_loss: 0.0021\n",
      "Epoch 11/100\n",
      "9/9 [==============================] - 2s 202ms/step - loss: 6.1124e-04 - val_loss: 7.0475e-04\n",
      "Epoch 12/100\n",
      "9/9 [==============================] - 2s 202ms/step - loss: 5.4581e-04 - val_loss: 0.0034\n",
      "Epoch 13/100\n",
      "9/9 [==============================] - 2s 206ms/step - loss: 5.6356e-04 - val_loss: 7.4337e-04\n",
      "Epoch 14/100\n",
      "9/9 [==============================] - 2s 212ms/step - loss: 5.0613e-04 - val_loss: 0.0023\n",
      "Epoch 15/100\n",
      "9/9 [==============================] - 2s 208ms/step - loss: 3.7621e-04 - val_loss: 0.0015\n",
      "Epoch 16/100\n",
      "9/9 [==============================] - 2s 204ms/step - loss: 6.7040e-04 - val_loss: 0.0014\n",
      "Epoch 17/100\n",
      "9/9 [==============================] - 2s 203ms/step - loss: 4.6643e-04 - val_loss: 9.6256e-04\n",
      "Epoch 18/100\n",
      "9/9 [==============================] - 2s 203ms/step - loss: 4.2883e-04 - val_loss: 0.0012\n",
      "Epoch 19/100\n",
      "9/9 [==============================] - 2s 201ms/step - loss: 5.6387e-04 - val_loss: 7.7877e-04\n",
      "Epoch 20/100\n",
      "9/9 [==============================] - 2s 201ms/step - loss: 4.2020e-04 - val_loss: 0.0019\n",
      "Epoch 21/100\n",
      "9/9 [==============================] - 2s 200ms/step - loss: 5.0949e-04 - val_loss: 6.5362e-04\n",
      "Epoch 22/100\n",
      "9/9 [==============================] - 2s 210ms/step - loss: 4.2764e-04 - val_loss: 0.0019\n",
      "Epoch 23/100\n",
      "9/9 [==============================] - 2s 212ms/step - loss: 4.1106e-04 - val_loss: 7.9947e-04\n",
      "Epoch 24/100\n",
      "9/9 [==============================] - 2s 204ms/step - loss: 4.8043e-04 - val_loss: 0.0016\n",
      "Epoch 25/100\n",
      "9/9 [==============================] - 2s 206ms/step - loss: 3.7334e-04 - val_loss: 7.1500e-04\n",
      "Epoch 26/100\n",
      "9/9 [==============================] - 2s 203ms/step - loss: 4.4370e-04 - val_loss: 0.0010\n",
      "Epoch 27/100\n",
      "9/9 [==============================] - 2s 203ms/step - loss: 4.2536e-04 - val_loss: 5.3538e-04\n",
      "Epoch 28/100\n",
      "9/9 [==============================] - 2s 204ms/step - loss: 3.2637e-04 - val_loss: 0.0010\n",
      "Epoch 29/100\n",
      "9/9 [==============================] - 2s 204ms/step - loss: 4.7378e-04 - val_loss: 7.4065e-04\n",
      "Epoch 30/100\n",
      "9/9 [==============================] - 2s 205ms/step - loss: 3.0469e-04 - val_loss: 0.0012\n",
      "Epoch 31/100\n",
      "9/9 [==============================] - 2s 209ms/step - loss: 4.5040e-04 - val_loss: 5.2145e-04\n",
      "Epoch 32/100\n",
      "9/9 [==============================] - 2s 207ms/step - loss: 3.8311e-04 - val_loss: 0.0016\n",
      "Epoch 33/100\n",
      "9/9 [==============================] - 2s 203ms/step - loss: 3.6874e-04 - val_loss: 6.4278e-04\n",
      "Epoch 34/100\n",
      "9/9 [==============================] - 2s 202ms/step - loss: 3.8233e-04 - val_loss: 9.1113e-04\n",
      "Epoch 35/100\n",
      "9/9 [==============================] - 2s 200ms/step - loss: 3.4230e-04 - val_loss: 0.0011\n",
      "Epoch 36/100\n",
      "9/9 [==============================] - 2s 202ms/step - loss: 4.0960e-04 - val_loss: 7.2890e-04\n",
      "Epoch 37/100\n",
      "9/9 [==============================] - 2s 201ms/step - loss: 3.6221e-04 - val_loss: 7.1999e-04\n",
      "Epoch 38/100\n",
      "9/9 [==============================] - 2s 203ms/step - loss: 3.1291e-04 - val_loss: 7.9437e-04\n",
      "Epoch 39/100\n",
      "9/9 [==============================] - 2s 203ms/step - loss: 4.1465e-04 - val_loss: 7.5142e-04\n",
      "Epoch 40/100\n",
      "9/9 [==============================] - 2s 208ms/step - loss: 3.0321e-04 - val_loss: 5.3163e-04\n",
      "Epoch 41/100\n",
      "9/9 [==============================] - 2s 205ms/step - loss: 3.9512e-04 - val_loss: 7.0331e-04\n",
      "Epoch 42/100\n",
      "9/9 [==============================] - 2s 204ms/step - loss: 2.7803e-04 - val_loss: 5.1235e-04\n",
      "Epoch 43/100\n",
      "9/9 [==============================] - 2s 203ms/step - loss: 4.0230e-04 - val_loss: 5.9539e-04\n",
      "Epoch 44/100\n",
      "9/9 [==============================] - 2s 203ms/step - loss: 2.8550e-04 - val_loss: 0.0015\n",
      "Epoch 45/100\n",
      "9/9 [==============================] - 2s 201ms/step - loss: 3.5100e-04 - val_loss: 3.9028e-04\n",
      "Epoch 46/100\n",
      "9/9 [==============================] - 2s 200ms/step - loss: 2.1610e-04 - val_loss: 0.0013\n",
      "Epoch 47/100\n",
      "9/9 [==============================] - 2s 199ms/step - loss: 4.4019e-04 - val_loss: 3.9343e-04\n",
      "Epoch 48/100\n",
      "9/9 [==============================] - 2s 203ms/step - loss: 3.2583e-04 - val_loss: 0.0014\n",
      "Epoch 49/100\n",
      "9/9 [==============================] - 2s 210ms/step - loss: 3.1904e-04 - val_loss: 5.8092e-04\n",
      "Epoch 50/100\n",
      "9/9 [==============================] - 2s 206ms/step - loss: 2.9438e-04 - val_loss: 0.0013\n",
      "Epoch 51/100\n",
      "9/9 [==============================] - 2s 200ms/step - loss: 3.6214e-04 - val_loss: 7.7277e-04\n",
      "Epoch 52/100\n",
      "9/9 [==============================] - 2s 203ms/step - loss: 3.2999e-04 - val_loss: 6.8432e-04\n",
      "Epoch 53/100\n",
      "9/9 [==============================] - 2s 202ms/step - loss: 3.7482e-04 - val_loss: 4.7611e-04\n",
      "Epoch 54/100\n",
      "9/9 [==============================] - 2s 204ms/step - loss: 2.2663e-04 - val_loss: 8.3305e-04\n",
      "Epoch 55/100\n",
      "9/9 [==============================] - 2s 202ms/step - loss: 3.9243e-04 - val_loss: 3.9689e-04\n",
      "Epoch 56/100\n",
      "9/9 [==============================] - 2s 203ms/step - loss: 2.7221e-04 - val_loss: 0.0011\n",
      "Epoch 57/100\n",
      "9/9 [==============================] - 2s 208ms/step - loss: 3.2864e-04 - val_loss: 4.6816e-04\n",
      "Epoch 58/100\n",
      "9/9 [==============================] - 2s 207ms/step - loss: 3.2809e-04 - val_loss: 6.9234e-04\n",
      "Epoch 59/100\n",
      "9/9 [==============================] - 2s 205ms/step - loss: 3.2365e-04 - val_loss: 6.1686e-04\n",
      "Epoch 60/100\n",
      "9/9 [==============================] - 2s 205ms/step - loss: 2.8777e-04 - val_loss: 5.7481e-04\n",
      "Epoch 61/100\n",
      "9/9 [==============================] - 2s 205ms/step - loss: 3.5487e-04 - val_loss: 6.7067e-04\n",
      "Epoch 62/100\n",
      "9/9 [==============================] - 2s 204ms/step - loss: 2.5791e-04 - val_loss: 0.0011\n",
      "Epoch 63/100\n",
      "9/9 [==============================] - 2s 202ms/step - loss: 3.1026e-04 - val_loss: 5.4175e-04\n",
      "Epoch 64/100\n",
      "9/9 [==============================] - 2s 203ms/step - loss: 3.3348e-04 - val_loss: 8.3164e-04\n",
      "Epoch 65/100\n",
      "9/9 [==============================] - 2s 200ms/step - loss: 2.8471e-04 - val_loss: 7.4384e-04\n",
      "Epoch 66/100\n",
      "9/9 [==============================] - 2s 209ms/step - loss: 2.5284e-04 - val_loss: 5.3375e-04\n",
      "Epoch 67/100\n",
      "9/9 [==============================] - 2s 206ms/step - loss: 3.7310e-04 - val_loss: 3.8673e-04\n",
      "Epoch 68/100\n",
      "9/9 [==============================] - 2s 203ms/step - loss: 1.8743e-04 - val_loss: 7.8901e-04\n",
      "Epoch 69/100\n",
      "9/9 [==============================] - 2s 203ms/step - loss: 3.6995e-04 - val_loss: 3.9162e-04\n",
      "Epoch 70/100\n",
      "9/9 [==============================] - 2s 201ms/step - loss: 1.7863e-04 - val_loss: 5.7918e-04\n",
      "Epoch 71/100\n",
      "9/9 [==============================] - 2s 206ms/step - loss: 3.8345e-04 - val_loss: 4.2658e-04\n",
      "Epoch 72/100\n",
      "9/9 [==============================] - 2s 205ms/step - loss: 2.1393e-04 - val_loss: 0.0015\n",
      "Epoch 73/100\n",
      "9/9 [==============================] - 2s 205ms/step - loss: 3.2670e-04 - val_loss: 4.1040e-04\n",
      "Epoch 74/100\n",
      "9/9 [==============================] - 2s 204ms/step - loss: 2.9270e-04 - val_loss: 0.0013\n",
      "Epoch 75/100\n",
      "9/9 [==============================] - 2s 211ms/step - loss: 2.5016e-04 - val_loss: 4.7551e-04\n",
      "Epoch 76/100\n",
      "9/9 [==============================] - 2s 209ms/step - loss: 3.0717e-04 - val_loss: 6.8553e-04\n",
      "Epoch 77/100\n",
      "9/9 [==============================] - 2s 204ms/step - loss: 2.4870e-04 - val_loss: 6.9721e-04\n",
      "Epoch 78/100\n",
      "9/9 [==============================] - 2s 202ms/step - loss: 2.8159e-04 - val_loss: 7.9426e-04\n",
      "Epoch 79/100\n",
      "9/9 [==============================] - 2s 204ms/step - loss: 2.5785e-04 - val_loss: 6.5175e-04\n",
      "Epoch 80/100\n",
      "9/9 [==============================] - 2s 201ms/step - loss: 2.5966e-04 - val_loss: 5.1084e-04\n",
      "Epoch 81/100\n",
      "9/9 [==============================] - 2s 200ms/step - loss: 2.9846e-04 - val_loss: 4.7081e-04\n",
      "Epoch 82/100\n",
      "9/9 [==============================] - 2s 201ms/step - loss: 2.9223e-04 - val_loss: 4.9352e-04\n",
      "Epoch 83/100\n",
      "9/9 [==============================] - 2s 203ms/step - loss: 2.4918e-04 - val_loss: 6.5208e-04\n",
      "Epoch 84/100\n",
      "9/9 [==============================] - 2s 218ms/step - loss: 2.7051e-04 - val_loss: 6.6034e-04\n",
      "Epoch 85/100\n",
      "9/9 [==============================] - 2s 226ms/step - loss: 2.9032e-04 - val_loss: 4.9277e-04\n",
      "Epoch 86/100\n",
      "9/9 [==============================] - 2s 224ms/step - loss: 1.9621e-04 - val_loss: 8.3212e-04\n",
      "Epoch 87/100\n",
      "9/9 [==============================] - 2s 222ms/step - loss: 3.1927e-04 - val_loss: 5.4710e-04\n",
      "Epoch 88/100\n",
      "9/9 [==============================] - 2s 222ms/step - loss: 2.6942e-04 - val_loss: 6.3956e-04\n",
      "Epoch 89/100\n",
      "9/9 [==============================] - 2s 224ms/step - loss: 2.3453e-04 - val_loss: 5.6867e-04\n",
      "Epoch 90/100\n",
      "9/9 [==============================] - 2s 224ms/step - loss: 2.9952e-04 - val_loss: 5.8225e-04\n",
      "Epoch 91/100\n",
      "9/9 [==============================] - 2s 227ms/step - loss: 2.3775e-04 - val_loss: 5.9219e-04\n",
      "Epoch 92/100\n",
      "9/9 [==============================] - 2s 232ms/step - loss: 2.9224e-04 - val_loss: 4.7571e-04\n",
      "Epoch 93/100\n",
      "9/9 [==============================] - 2s 225ms/step - loss: 1.6517e-04 - val_loss: 5.0148e-04\n",
      "Epoch 94/100\n",
      "9/9 [==============================] - 2s 223ms/step - loss: 3.1400e-04 - val_loss: 3.9735e-04\n",
      "Epoch 95/100\n",
      "9/9 [==============================] - 2s 223ms/step - loss: 2.1471e-04 - val_loss: 6.2469e-04\n",
      "Epoch 96/100\n",
      "9/9 [==============================] - 2s 223ms/step - loss: 2.7552e-04 - val_loss: 6.4576e-04\n",
      "Epoch 97/100\n",
      "9/9 [==============================] - 2s 224ms/step - loss: 2.5281e-04 - val_loss: 6.2216e-04\n",
      "Epoch 98/100\n",
      "9/9 [==============================] - 2s 224ms/step - loss: 2.4710e-04 - val_loss: 6.8690e-04\n",
      "Epoch 99/100\n",
      "9/9 [==============================] - 2s 228ms/step - loss: 2.4794e-04 - val_loss: 5.0524e-04\n",
      "Epoch 100/100\n",
      "9/9 [==============================] - 2s 239ms/step - loss: 2.4371e-04 - val_loss: 5.2708e-04\n"
     ]
    },
    {
     "data": {
      "text/plain": [
       "<keras.callbacks.History at 0x23985aee130>"
      ]
     },
     "execution_count": 20,
     "metadata": {},
     "output_type": "execute_result"
    }
   ],
   "source": [
    "#3단계: 모델 학습\n",
    "model.fit(\n",
    "    X_train,\n",
    "    y_train,\n",
    "    batch_size=512,\n",
    "    epochs=100,\n",
    "    validation_split=0.05)"
   ]
  },
  {
   "cell_type": "code",
   "execution_count": 54,
   "metadata": {},
   "outputs": [
    {
     "data": {
      "text/plain": [
       "(1188, 60)"
      ]
     },
     "execution_count": 54,
     "metadata": {},
     "output_type": "execute_result"
    }
   ],
   "source": [
    "X_test.shape"
   ]
  },
  {
   "cell_type": "code",
   "execution_count": 21,
   "metadata": {},
   "outputs": [
    {
     "data": {
      "image/png": "[encoded data removed]",
      "text/plain": [
       "<Figure size 640x480 with 1 Axes>"
      ]
     },
     "metadata": {},
     "output_type": "display_data"
    }
   ],
   "source": [
    "import numpy as np\n",
    "import matplotlib.pyplot as plt\n",
    "\n",
    "# LSTM 모델 예측 함수\n",
    "def predict_sequences_multiple(model, X_test, length, interval):\n",
    "    predictions = []\n",
    "    for i in range(0, len(X_test) - length + 1, interval):\n",
    "        curr_sequence = X_test[i:i+length]\n",
    "        curr_sequence = curr_sequence.reshape(1, length, 1)  # 형태 변환\n",
    "        prediction = model.predict(curr_sequence)\n",
    "        predictions.append(prediction[0])\n",
    "    return predictions\n",
    "\n",
    "# LSTM 모델 결과 시각화 함수\n",
    "def plot_results_multiple(predictions, y_test, length):\n",
    "    plt.plot(y_test, label='Actual')\n",
    "    for i, data in enumerate(predictions):\n",
    "        padding = [None for _ in range(i * interval)]\n",
    "        plt.plot(padding + data, label='Prediction')\n",
    "    plt.legend()\n",
    "    plt.show()\n",
    "\n",
    "# 예측을 위한 LSTM 모델과 테스트 데이터 준비\n",
    "# model = # LSTM 모델 정의 및 학습이 완료된 모델을 할당\n",
    "\n",
    "# 예측 수행\n",
    "length = 50  # 예측 결과의 길이\n",
    "interval = 50  # 예측할 시퀀스의 간격\n",
    "X_test = X_test.reshape(1, -1, 1)  # 데이터 형태 변환\n",
    "predictions = predict_sequences_multiple(model, X_test, length, interval)\n",
    "\n",
    "# 결과 시각화\n",
    "plot_results_multiple(predictions, y_test, length)\n"
   ]
  },
  {
   "cell_type": "code",
   "execution_count": 12,
   "metadata": {},
   "outputs": [
    {
     "data": {
      "text/plain": [
       "(60, 1)"
      ]
     },
     "execution_count": 12,
     "metadata": {},
     "output_type": "execute_result"
    }
   ],
   "source": [
    "last_60_days = scaled_data[-look_back:]\n",
    "last_60_days.shape"
   ]
  },
  {
   "cell_type": "code",
   "execution_count": 22,
   "metadata": {},
   "outputs": [],
   "source": [
    "predicted_list = []"
   ]
  },
  {
   "cell_type": "code",
   "execution_count": 23,
   "metadata": {},
   "outputs": [
    {
     "name": "stdout",
     "output_type": "stream",
     "text": [
      "1/1 [==============================] - 0s 18ms/step\n",
      "1/1 [==============================] - 0s 19ms/step\n",
      "1/1 [==============================] - 0s 19ms/step\n",
      "1/1 [==============================] - 0s 19ms/step\n",
      "1/1 [==============================] - 0s 18ms/step\n",
      "1/1 [==============================] - 0s 20ms/step\n",
      "1/1 [==============================] - 0s 21ms/step\n"
     ]
    }
   ],
   "source": [
    "for i in range(7):\n",
    "    X_pred = np.array([last_60_days])\n",
    "    X_pred = np.reshape(X_pred, (X_pred.shape[0], X_pred.shape[1], 1))\n",
    "    # 7일간의 주가 예측\n",
    "    predicted_prices = model.predict(X_pred)\n",
    "    last_60_days = np.append(last_60_days, predicted_prices)\n",
    "    predicted_prices = scaler.inverse_transform(predicted_prices)\n",
    "    predicted_list.append(predicted_prices.item())\n",
    "    last_60_days = last_60_days[1:]"
   ]
  },
  {
   "cell_type": "code",
   "execution_count": 24,
   "metadata": {},
   "outputs": [
    {
     "data": {
      "text/plain": [
       "array([0.65550025, 0.65661876, 0.6655668 , 0.67898887, 0.68681841,\n",
       "       0.67675186, 0.6856999 , 0.68346289, 0.68905542, 0.69800347,\n",
       "       0.68793692, 0.69352944, 0.69688496, 0.67898887, 0.70918852,\n",
       "       0.71701806, 0.71925508, 0.72037358, 0.72149209, 0.71030703,\n",
       "       0.71254404, 0.71589956, 0.71478105, 0.71254404, 0.71701806,\n",
       "       0.71142554, 0.69352944, 0.69912197, 0.7047145 , 0.71478105,\n",
       "       0.71701806, 0.71366255, 0.71030703, 0.71925508, 0.71254404,\n",
       "       0.7047145 , 0.70024048, 0.69912197, 0.703596  , 0.71366255,\n",
       "       0.70918852, 0.72261059, 0.74721772, 0.74833622, 0.74721772,\n",
       "       0.74609921, 0.51321208, 0.51180971, 0.50819534, 0.50266993,\n",
       "       0.49562004, 0.48742822, 0.4784362 , 0.57150966, 0.55615646,\n",
       "       0.54508841, 0.53699809, 0.53094506, 0.52626455, 0.52249438])"
      ]
     },
     "execution_count": 24,
     "metadata": {},
     "output_type": "execute_result"
    }
   ],
   "source": [
    "last_60_days"
   ]
  },
  {
   "cell_type": "code",
   "execution_count": 25,
   "metadata": {},
   "outputs": [
    {
     "data": {
      "text/plain": [
       "[52690.8203125,\n",
       " 51318.16796875,\n",
       " 50328.62890625,\n",
       " 49605.3125,\n",
       " 49064.140625,\n",
       " 48645.6796875,\n",
       " 48308.609375]"
      ]
     },
     "metadata": {},
     "output_type": "display_data"
    }
   ],
   "source": [
    "display(predicted_list)\n",
    "# predicted_7 = np.array(predicted_list)\n",
    "# display(predicted_7)"
   ]
  },
  {
   "cell_type": "code",
   "execution_count": 26,
   "metadata": {},
   "outputs": [
    {
     "name": "stderr",
     "output_type": "stream",
     "text": [
      "C:\\Users\\Use 1\\AppData\\Local\\Temp\\ipykernel_14392\\2207845087.py:7: FutureWarning: The frame.append method is deprecated and will be removed from pandas in a future version. Use pandas.concat instead.\n",
      "  data = data.append(new_row, ignore_index=True)\n",
      "C:\\Users\\Use 1\\AppData\\Local\\Temp\\ipykernel_14392\\2207845087.py:7: FutureWarning: The frame.append method is deprecated and will be removed from pandas in a future version. Use pandas.concat instead.\n",
      "  data = data.append(new_row, ignore_index=True)\n",
      "C:\\Users\\Use 1\\AppData\\Local\\Temp\\ipykernel_14392\\2207845087.py:7: FutureWarning: The frame.append method is deprecated and will be removed from pandas in a future version. Use pandas.concat instead.\n",
      "  data = data.append(new_row, ignore_index=True)\n",
      "C:\\Users\\Use 1\\AppData\\Local\\Temp\\ipykernel_14392\\2207845087.py:7: FutureWarning: The frame.append method is deprecated and will be removed from pandas in a future version. Use pandas.concat instead.\n",
      "  data = data.append(new_row, ignore_index=True)\n",
      "C:\\Users\\Use 1\\AppData\\Local\\Temp\\ipykernel_14392\\2207845087.py:7: FutureWarning: The frame.append method is deprecated and will be removed from pandas in a future version. Use pandas.concat instead.\n",
      "  data = data.append(new_row, ignore_index=True)\n",
      "C:\\Users\\Use 1\\AppData\\Local\\Temp\\ipykernel_14392\\2207845087.py:7: FutureWarning: The frame.append method is deprecated and will be removed from pandas in a future version. Use pandas.concat instead.\n",
      "  data = data.append(new_row, ignore_index=True)\n",
      "C:\\Users\\Use 1\\AppData\\Local\\Temp\\ipykernel_14392\\2207845087.py:7: FutureWarning: The frame.append method is deprecated and will be removed from pandas in a future version. Use pandas.concat instead.\n",
      "  data = data.append(new_row, ignore_index=True)\n"
     ]
    }
   ],
   "source": [
    "# 마지막 날짜 값 추출\n",
    "last_date = data['date'].iloc[-1]\n",
    "\n",
    "for i in range(7):\n",
    "    next_date = last_date + pd.DateOffset(days=1)\n",
    "    new_row = {'date': next_date, 'Close': predicted_list[i]}\n",
    "    data = data.append(new_row, ignore_index=True)\n",
    "    last_date = next_date\n"
   ]
  },
  {
   "cell_type": "code",
   "execution_count": 27,
   "metadata": {},
   "outputs": [
    {
     "data": {
      "text/html": [
       "<div>\n",
       "<style scoped>\n",
       "    .dataframe tbody tr th:only-of-type {\n",
       "        vertical-align: middle;\n",
       "    }\n",
       "\n",
       "    .dataframe tbody tr th {\n",
       "        vertical-align: top;\n",
       "    }\n",
       "\n",
       "    .dataframe thead th {\n",
       "        text-align: right;\n",
       "    }\n",
       "</style>\n",
       "<table border=\"1\" class=\"dataframe\">\n",
       "  <thead>\n",
       "    <tr style=\"text-align: right;\">\n",
       "      <th></th>\n",
       "      <th>Open</th>\n",
       "      <th>High</th>\n",
       "      <th>Low</th>\n",
       "      <th>Close</th>\n",
       "      <th>Volume</th>\n",
       "      <th>Change</th>\n",
       "      <th>Year</th>\n",
       "      <th>Month</th>\n",
       "      <th>Day</th>\n",
       "      <th>date</th>\n",
       "    </tr>\n",
       "  </thead>\n",
       "  <tbody>\n",
       "    <tr>\n",
       "      <th>6004</th>\n",
       "      <td>NaN</td>\n",
       "      <td>NaN</td>\n",
       "      <td>NaN</td>\n",
       "      <td>45905.910156</td>\n",
       "      <td>NaN</td>\n",
       "      <td>NaN</td>\n",
       "      <td>NaN</td>\n",
       "      <td>NaN</td>\n",
       "      <td>NaN</td>\n",
       "      <td>2023-05-29</td>\n",
       "    </tr>\n",
       "    <tr>\n",
       "      <th>6005</th>\n",
       "      <td>NaN</td>\n",
       "      <td>NaN</td>\n",
       "      <td>NaN</td>\n",
       "      <td>45173.519531</td>\n",
       "      <td>NaN</td>\n",
       "      <td>NaN</td>\n",
       "      <td>NaN</td>\n",
       "      <td>NaN</td>\n",
       "      <td>NaN</td>\n",
       "      <td>2023-05-30</td>\n",
       "    </tr>\n",
       "    <tr>\n",
       "      <th>6006</th>\n",
       "      <td>NaN</td>\n",
       "      <td>NaN</td>\n",
       "      <td>NaN</td>\n",
       "      <td>44369.589844</td>\n",
       "      <td>NaN</td>\n",
       "      <td>NaN</td>\n",
       "      <td>NaN</td>\n",
       "      <td>NaN</td>\n",
       "      <td>NaN</td>\n",
       "      <td>2023-05-31</td>\n",
       "    </tr>\n",
       "    <tr>\n",
       "      <th>6007</th>\n",
       "      <td>NaN</td>\n",
       "      <td>NaN</td>\n",
       "      <td>NaN</td>\n",
       "      <td>52690.820312</td>\n",
       "      <td>NaN</td>\n",
       "      <td>NaN</td>\n",
       "      <td>NaN</td>\n",
       "      <td>NaN</td>\n",
       "      <td>NaN</td>\n",
       "      <td>2023-06-01</td>\n",
       "    </tr>\n",
       "    <tr>\n",
       "      <th>6008</th>\n",
       "      <td>NaN</td>\n",
       "      <td>NaN</td>\n",
       "      <td>NaN</td>\n",
       "      <td>51318.167969</td>\n",
       "      <td>NaN</td>\n",
       "      <td>NaN</td>\n",
       "      <td>NaN</td>\n",
       "      <td>NaN</td>\n",
       "      <td>NaN</td>\n",
       "      <td>2023-06-02</td>\n",
       "    </tr>\n",
       "    <tr>\n",
       "      <th>6009</th>\n",
       "      <td>NaN</td>\n",
       "      <td>NaN</td>\n",
       "      <td>NaN</td>\n",
       "      <td>50328.628906</td>\n",
       "      <td>NaN</td>\n",
       "      <td>NaN</td>\n",
       "      <td>NaN</td>\n",
       "      <td>NaN</td>\n",
       "      <td>NaN</td>\n",
       "      <td>2023-06-03</td>\n",
       "    </tr>\n",
       "    <tr>\n",
       "      <th>6010</th>\n",
       "      <td>NaN</td>\n",
       "      <td>NaN</td>\n",
       "      <td>NaN</td>\n",
       "      <td>49605.312500</td>\n",
       "      <td>NaN</td>\n",
       "      <td>NaN</td>\n",
       "      <td>NaN</td>\n",
       "      <td>NaN</td>\n",
       "      <td>NaN</td>\n",
       "      <td>2023-06-04</td>\n",
       "    </tr>\n",
       "    <tr>\n",
       "      <th>6011</th>\n",
       "      <td>NaN</td>\n",
       "      <td>NaN</td>\n",
       "      <td>NaN</td>\n",
       "      <td>49064.140625</td>\n",
       "      <td>NaN</td>\n",
       "      <td>NaN</td>\n",
       "      <td>NaN</td>\n",
       "      <td>NaN</td>\n",
       "      <td>NaN</td>\n",
       "      <td>2023-06-05</td>\n",
       "    </tr>\n",
       "    <tr>\n",
       "      <th>6012</th>\n",
       "      <td>NaN</td>\n",
       "      <td>NaN</td>\n",
       "      <td>NaN</td>\n",
       "      <td>48645.679688</td>\n",
       "      <td>NaN</td>\n",
       "      <td>NaN</td>\n",
       "      <td>NaN</td>\n",
       "      <td>NaN</td>\n",
       "      <td>NaN</td>\n",
       "      <td>2023-06-06</td>\n",
       "    </tr>\n",
       "    <tr>\n",
       "      <th>6013</th>\n",
       "      <td>NaN</td>\n",
       "      <td>NaN</td>\n",
       "      <td>NaN</td>\n",
       "      <td>48308.609375</td>\n",
       "      <td>NaN</td>\n",
       "      <td>NaN</td>\n",
       "      <td>NaN</td>\n",
       "      <td>NaN</td>\n",
       "      <td>NaN</td>\n",
       "      <td>2023-06-07</td>\n",
       "    </tr>\n",
       "  </tbody>\n",
       "</table>\n",
       "</div>"
      ],
      "text/plain": [
       "      Open  High  Low         Close  Volume  Change  Year  Month  Day  \\\n",
       "6004   NaN   NaN  NaN  45905.910156     NaN     NaN   NaN    NaN  NaN   \n",
       "6005   NaN   NaN  NaN  45173.519531     NaN     NaN   NaN    NaN  NaN   \n",
       "6006   NaN   NaN  NaN  44369.589844     NaN     NaN   NaN    NaN  NaN   \n",
       "6007   NaN   NaN  NaN  52690.820312     NaN     NaN   NaN    NaN  NaN   \n",
       "6008   NaN   NaN  NaN  51318.167969     NaN     NaN   NaN    NaN  NaN   \n",
       "6009   NaN   NaN  NaN  50328.628906     NaN     NaN   NaN    NaN  NaN   \n",
       "6010   NaN   NaN  NaN  49605.312500     NaN     NaN   NaN    NaN  NaN   \n",
       "6011   NaN   NaN  NaN  49064.140625     NaN     NaN   NaN    NaN  NaN   \n",
       "6012   NaN   NaN  NaN  48645.679688     NaN     NaN   NaN    NaN  NaN   \n",
       "6013   NaN   NaN  NaN  48308.609375     NaN     NaN   NaN    NaN  NaN   \n",
       "\n",
       "           date  \n",
       "6004 2023-05-29  \n",
       "6005 2023-05-30  \n",
       "6006 2023-05-31  \n",
       "6007 2023-06-01  \n",
       "6008 2023-06-02  \n",
       "6009 2023-06-03  \n",
       "6010 2023-06-04  \n",
       "6011 2023-06-05  \n",
       "6012 2023-06-06  \n",
       "6013 2023-06-07  "
      ]
     },
     "execution_count": 27,
     "metadata": {},
     "output_type": "execute_result"
    }
   ],
   "source": [
    "data.tail(10)"
   ]
  },
  {
   "cell_type": "code",
   "execution_count": 28,
   "metadata": {},
   "outputs": [],
   "source": [
    "lookback = 60"
   ]
  },
  {
   "cell_type": "code",
   "execution_count": 29,
   "metadata": {},
   "outputs": [
    {
     "data": {
      "image/png": "[encoded data removed]",
      "text/plain": [
       "<Figure size 640x480 with 1 Axes>"
      ]
     },
     "metadata": {},
     "output_type": "display_data"
    }
   ],
   "source": [
    "# 예측 결과 시각화\n",
    "plt.plot(data['date'].values[-lookback:], data['Close'].values[-lookback:], label='Actual')\n",
    "plt.plot(data['date'].tail(7), data['Close'].tail(7), label='Predicted')\n",
    "plt.xlabel('date')\n",
    "plt.ylabel('Close Price')\n",
    "plt.title('7-day Stock Price Prediction')\n",
    "plt.legend()\n",
    "plt.show()"
   ]
  }
 ],
 "metadata": {
  "kernelspec": {
   "display_name": "RF3",
   "language": "python",
   "name": "python3"
  },
  "language_info": {
   "codemirror_mode": {
    "name": "ipython",
    "version": 3
   },
   "file_extension": ".py",
   "mimetype": "text/x-python",
   "name": "python",
   "nbconvert_exporter": "python",
   "pygments_lexer": "ipython3",
   "version": "3.9.16"
  },
  "orig_nbformat": 4
 },
 "nbformat": 4,
 "nbformat_minor": 2
}
